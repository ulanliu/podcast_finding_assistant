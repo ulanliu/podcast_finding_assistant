{
 "cells": [
  {
   "cell_type": "code",
   "execution_count": 1,
   "id": "d1fef6ed-0c23-45dd-a261-820e9579bd87",
   "metadata": {},
   "outputs": [],
   "source": [
    "import pandas as pd\n",
    "import json\n",
    "import numpy as np\n",
    "from tqdm import tqdm\n",
    "from fastembed import TextEmbedding\n",
    "from qdrant_client import QdrantClient, models"
   ]
  },
  {
   "cell_type": "code",
   "execution_count": 3,
   "id": "87c194b1-644d-40e9-89e6-814b3c111331",
   "metadata": {},
   "outputs": [],
   "source": [
    "import os\n",
    "from huggingface_hub import login\n",
    "\n",
    "huggingface_token = os.environ.get(\"HUGGINGFACE_TOKEN\")\n",
    "login(token=huggingface_token)"
   ]
  },
  {
   "cell_type": "code",
   "execution_count": 4,
   "id": "825502dc-87f9-405c-ab8f-45fe126808e6",
   "metadata": {},
   "outputs": [
    {
     "data": {
      "application/vnd.jupyter.widget-view+json": {
       "model_id": "910a0bd1ee264e4589d1843645f62cce",
       "version_major": 2,
       "version_minor": 0
      },
      "text/plain": [
       "Fetching 5 files:   0%|          | 0/5 [00:00<?, ?it/s]"
      ]
     },
     "metadata": {},
     "output_type": "display_data"
    },
    {
     "data": {
      "application/vnd.jupyter.widget-view+json": {
       "model_id": "35224d9d550343b0a088abce8ad0236b",
       "version_major": 2,
       "version_minor": 0
      },
      "text/plain": [
       "model_optimized.onnx:   0%|          | 0.00/218M [00:00<?, ?B/s]"
      ]
     },
     "metadata": {},
     "output_type": "display_data"
    },
    {
     "data": {
      "application/vnd.jupyter.widget-view+json": {
       "model_id": "f4333cafc7ee45ea9c81026cdca7e887",
       "version_major": 2,
       "version_minor": 0
      },
      "text/plain": [
       "special_tokens_map.json:   0%|          | 0.00/695 [00:00<?, ?B/s]"
      ]
     },
     "metadata": {},
     "output_type": "display_data"
    },
    {
     "data": {
      "application/vnd.jupyter.widget-view+json": {
       "model_id": "2446abb54eaa482980bb928b30386c1d",
       "version_major": 2,
       "version_minor": 0
      },
      "text/plain": [
       "tokenizer.json:   0%|          | 0.00/711k [00:00<?, ?B/s]"
      ]
     },
     "metadata": {},
     "output_type": "display_data"
    },
    {
     "data": {
      "application/vnd.jupyter.widget-view+json": {
       "model_id": "480852fb03b34532a97e31c852affd46",
       "version_major": 2,
       "version_minor": 0
      },
      "text/plain": [
       "tokenizer_config.json:   0%|          | 0.00/1.24k [00:00<?, ?B/s]"
      ]
     },
     "metadata": {},
     "output_type": "display_data"
    },
    {
     "data": {
      "application/vnd.jupyter.widget-view+json": {
       "model_id": "f16fb65cecb4445d8298ccb79e24e13d",
       "version_major": 2,
       "version_minor": 0
      },
      "text/plain": [
       "config.json:   0%|          | 0.00/740 [00:00<?, ?B/s]"
      ]
     },
     "metadata": {},
     "output_type": "display_data"
    },
    {
     "name": "stdout",
     "output_type": "stream",
     "text": [
      "The model BAAI/bge-small-en-v1.5 is ready to use.\n"
     ]
    }
   ],
   "source": [
    "model = TextEmbedding(model_name=\"BAAI/bge-base-en-v1.5\")\n",
    "print(\"The model BAAI/bge-small-en-v1.5 is ready to use.\")"
   ]
  },
  {
   "cell_type": "code",
   "execution_count": 3,
   "id": "3bb30dc9-eaaa-4de0-86d8-8abc5296112d",
   "metadata": {},
   "outputs": [],
   "source": [
    "df = pd.read_csv('podcast_data.csv')"
   ]
  },
  {
   "cell_type": "code",
   "execution_count": 6,
   "id": "fe0834f8-1e61-4a82-9356-f262b998cf43",
   "metadata": {},
   "outputs": [],
   "source": [
    "def dataframe_to_points(model, df):\n",
    "    points = []\n",
    "\n",
    "    for _, row in tqdm(df.iterrows(), desc=\"Embedding rows of DataFrame\"):\n",
    "        # Create a list of \"column:value\" pairs for each row\n",
    "        id_value = row['episode']\n",
    "        \n",
    "        pairs = [f\"{col}:{val}\" for col, val in row.items() if col != 'episode']\n",
    "        \n",
    "        # Join these pairs with commas\n",
    "        row_text = \";\".join(pairs)\n",
    "\n",
    "        embedding = list(model.embed(row_text))[0]\n",
    "\n",
    "        points.append(\n",
    "            models.PointStruct(\n",
    "                id=id_value,\n",
    "                vector=embedding\n",
    "            )\n",
    "        )\n",
    "\n",
    "    return points"
   ]
  },
  {
   "cell_type": "code",
   "execution_count": 8,
   "id": "1015761d-f97f-47d6-9efd-4c25b413916a",
   "metadata": {},
   "outputs": [
    {
     "name": "stderr",
     "output_type": "stream",
     "text": [
      "Embedding rows of DataFrame: 444it [02:11,  3.37it/s]\n"
     ]
    }
   ],
   "source": [
    "embed_points = dataframe_to_points(model, df)"
   ]
  },
  {
   "cell_type": "code",
   "execution_count": 5,
   "id": "bad69b24-a38c-40d4-aaea-d5ebbac1298a",
   "metadata": {},
   "outputs": [
    {
     "data": {
      "text/plain": [
       "True"
      ]
     },
     "execution_count": 5,
     "metadata": {},
     "output_type": "execute_result"
    }
   ],
   "source": [
    "client.collection_exists(collection_name=\"podcast_collection\")"
   ]
  },
  {
   "cell_type": "code",
   "execution_count": 6,
   "id": "ee939556-08ef-4a29-9c04-f1d4d311c900",
   "metadata": {},
   "outputs": [
    {
     "data": {
      "text/plain": [
       "False"
      ]
     },
     "execution_count": 6,
     "metadata": {},
     "output_type": "execute_result"
    }
   ],
   "source": [
    "client.collection_exists(collection_name=\"test_collection\")"
   ]
  },
  {
   "cell_type": "code",
   "execution_count": 4,
   "id": "40490852-863d-4655-8868-4a8726fd597f",
   "metadata": {},
   "outputs": [
    {
     "ename": "NameError",
     "evalue": "name 'model' is not defined",
     "output_type": "error",
     "traceback": [
      "\u001b[0;31m---------------------------------------------------------------------------\u001b[0m",
      "\u001b[0;31mNameError\u001b[0m                                 Traceback (most recent call last)",
      "Cell \u001b[0;32mIn[4], line 5\u001b[0m\n\u001b[1;32m      3\u001b[0m \u001b[38;5;66;03m# Get vector dimension\u001b[39;00m\n\u001b[1;32m      4\u001b[0m sample_text \u001b[38;5;241m=\u001b[39m \u001b[38;5;124mf\u001b[39m\u001b[38;5;124m\"\u001b[39m\u001b[38;5;124mtitle:\u001b[39m\u001b[38;5;132;01m{\u001b[39;00mdf\u001b[38;5;241m.\u001b[39miloc[\u001b[38;5;241m0\u001b[39m][\u001b[38;5;124m'\u001b[39m\u001b[38;5;124mtitle\u001b[39m\u001b[38;5;124m'\u001b[39m]\u001b[38;5;132;01m}\u001b[39;00m\u001b[38;5;124m; summary:\u001b[39m\u001b[38;5;132;01m{\u001b[39;00mdf\u001b[38;5;241m.\u001b[39miloc[\u001b[38;5;241m0\u001b[39m][\u001b[38;5;124m'\u001b[39m\u001b[38;5;124msummary\u001b[39m\u001b[38;5;124m'\u001b[39m]\u001b[38;5;132;01m}\u001b[39;00m\u001b[38;5;124m\"\u001b[39m\n\u001b[0;32m----> 5\u001b[0m sample_vector \u001b[38;5;241m=\u001b[39m \u001b[38;5;28mlist\u001b[39m(\u001b[43mmodel\u001b[49m\u001b[38;5;241m.\u001b[39membed(sample_text))[\u001b[38;5;241m0\u001b[39m]\n\u001b[1;32m      6\u001b[0m vector_size \u001b[38;5;241m=\u001b[39m \u001b[38;5;28mlen\u001b[39m(sample_vector)\n\u001b[1;32m      8\u001b[0m \u001b[38;5;66;03m# Try to create collection (ignore if exists)\u001b[39;00m\n",
      "\u001b[0;31mNameError\u001b[0m: name 'model' is not defined"
     ]
    }
   ],
   "source": [
    "client = QdrantClient(url=\"http://localhost:6333\")\n",
    "\n",
    "# Get vector dimension\n",
    "sample_text = f\"title:{df.iloc[0]['title']}; summary:{df.iloc[0]['summary']}\"\n",
    "sample_vector = list(model.embed(sample_text))[0]\n",
    "vector_size = len(sample_vector)\n",
    "\n",
    "# Try to create collection (ignore if exists)\n",
    "try:\n",
    "    client.create_collection(\n",
    "        collection_name=\"podcast_collection\",\n",
    "        vectors_config=models.VectorParams(\n",
    "            size=vector_size,\n",
    "            distance=models.Distance.COSINE\n",
    "        )\n",
    "    )\n",
    "    print(f\"Created new collection: podcast_collection\")\n",
    "except Exception as e:\n",
    "    print(f\"Collection may already exist: {e}\")"
   ]
  },
  {
   "cell_type": "code",
   "execution_count": 13,
   "id": "5312a16f-0512-4a04-b48c-cc74b4a626cd",
   "metadata": {},
   "outputs": [
    {
     "data": {
      "text/plain": [
       "UpdateResult(operation_id=0, status=<UpdateStatus.COMPLETED: 'completed'>)"
      ]
     },
     "execution_count": 13,
     "metadata": {},
     "output_type": "execute_result"
    }
   ],
   "source": [
    "client.upsert(\n",
    "    collection_name=\"podcast_collection\",\n",
    "    points=embed_points\n",
    ")"
   ]
  },
  {
   "cell_type": "code",
   "execution_count": null,
   "id": "e60de894-bcec-4b35-a68a-210fad33180a",
   "metadata": {
    "jupyter": {
     "source_hidden": true
    }
   },
   "outputs": [],
   "source": [
    "# def setup_qdrant(podcast_df, model, collection_name=\"podcast_collection\"):\n",
    "#     \"\"\"Create a Qdrant collection and upload podcast vectors.\"\"\"\n",
    "#     # Initialize Qdrant client\n",
    "#     client = QdrantClient(url=\"http://localhost:6333\")\n",
    "    \n",
    "#     # Get vector dimension\n",
    "#     sample_text = f\"title:{podcast_df.iloc[0]['title']}; summary:{podcast_df.iloc[0]['summary']}\"\n",
    "#     sample_vector = list(model.embed(sample_text))[0]\n",
    "#     vector_size = len(sample_vector)\n",
    "    \n",
    "#     # Try to create collection (ignore if exists)\n",
    "#     try:\n",
    "#         client.create_collection(\n",
    "#             collection_name=collection_name,\n",
    "#             vectors_config=models.VectorParams(\n",
    "#                 size=vector_size,\n",
    "#                 distance=models.Distance.COSINE\n",
    "#             )\n",
    "#         )\n",
    "#         print(f\"Created new collection: {collection_name}\")\n",
    "#     except Exception as e:\n",
    "#         print(f\"Collection may already exist: {e}\")\n",
    "    \n",
    "#     # Embed and upload each podcast episode\n",
    "#     points = []\n",
    "#     for _, row in tqdm(podcast_df.iterrows(), total=len(podcast_df), desc=\"Embedding podcast episodes\"):\n",
    "#         episode_id = row['episode']\n",
    "#         title = row['title'] if not pd.isna(row['title']) else \"\"\n",
    "#         summary = row['summary'] if not pd.isna(row['summary']) else \"\"\n",
    "        \n",
    "#         # Create a text representation of the episode\n",
    "#         text_representation = f\"title:{title}; summary:{summary}\"\n",
    "        \n",
    "#         # Embed the text\n",
    "#         embedding = list(model.embed(text_representation))[0]\n",
    "        \n",
    "#         # Create a point\n",
    "#         points.append(\n",
    "#             models.PointStruct(\n",
    "#                 id=int(episode_id),\n",
    "#                 vector=embedding,\n",
    "#                 payload={\n",
    "#                     'episode': int(episode_id),\n",
    "#                     'title': title,\n",
    "#                     'summary': summary\n",
    "#                 }\n",
    "#             )\n",
    "#         )\n",
    "    \n",
    "#     # Upload points in batches\n",
    "#     batch_size = 100\n",
    "#     for i in range(0, len(points), batch_size):\n",
    "#         batch = points[i:i+batch_size]\n",
    "#         client.upsert(\n",
    "#             collection_name=collection_name,\n",
    "#             points=batch\n",
    "#         )\n",
    "    \n",
    "#     print(f\"Uploaded {len(points)} episodes to Qdrant.\")\n",
    "#     return client"
   ]
  },
  {
   "cell_type": "code",
   "execution_count": 7,
   "id": "4a7b57e8-e235-4b71-988c-273b0f30cced",
   "metadata": {},
   "outputs": [],
   "source": [
    "with open('podcast_ground_truth.json', 'r', encoding='utf-8') as f:\n",
    "    ground_truth = json.load(f)"
   ]
  },
  {
   "cell_type": "code",
   "execution_count": 17,
   "id": "dd102360-7a2c-4ee2-be87-04f19d9154c2",
   "metadata": {},
   "outputs": [],
   "source": [
    "# Step 4: Evaluate retrieval using ground truth sentences\n",
    "def evaluate_retrieval(client, model, ground_truth, collection_name=\"podcast_collection\", k=5):\n",
    "    \"\"\"\n",
    "    Evaluate retrieval performance using ground truth sentences.\n",
    "    \n",
    "    For each sentence in the ground truth data, embed it and query Qdrant.\n",
    "    Check if the correct episode is in the top k results.\n",
    "    \"\"\"\n",
    "    # Prepare to store results\n",
    "    all_relevance = []\n",
    "    \n",
    "    # Process each episode and its sentences\n",
    "    for episode_id, episode_data in tqdm(ground_truth.items(), desc=\"Evaluating episodes\"):\n",
    "        sentences = episode_data.get('sentence', [])\n",
    "        \n",
    "        for sentence in sentences:\n",
    "            # Embed the sentence\n",
    "            query_vector = list(model.embed(sentence))[0]\n",
    "            \n",
    "            # Query Qdrant\n",
    "            search_results = client.search(\n",
    "                collection_name=collection_name,\n",
    "                query_vector=query_vector,\n",
    "                limit=k\n",
    "            )\n",
    "            \n",
    "            # Check if the correct episode is in the results\n",
    "            result_ids = [result.id for result in search_results]\n",
    "            relevance = [int(episode_id) == result_id for result_id in result_ids]\n",
    "            \n",
    "            all_relevance.append(relevance)\n",
    "    \n",
    "    return all_relevance"
   ]
  },
  {
   "cell_type": "code",
   "execution_count": 18,
   "id": "0d18e399-aab3-4352-a970-b7917e62f04b",
   "metadata": {},
   "outputs": [],
   "source": [
    "# Step 5: Calculate metrics\n",
    "def calculate_metrics(relevance_results):\n",
    "    \"\"\"Calculate hit rate and MRR from relevance results.\"\"\"\n",
    "    # Hit rate (Recall@k)\n",
    "    hit_count = sum(1 for relevance in relevance_results if True in relevance)\n",
    "    hit_rate = hit_count / len(relevance_results) if relevance_results else 0\n",
    "    \n",
    "    # Mean Reciprocal Rank (MRR)\n",
    "    mrr_sum = 0\n",
    "    for relevance in relevance_results:\n",
    "        for i, is_relevant in enumerate(relevance):\n",
    "            if is_relevant:\n",
    "                mrr_sum += 1 / (i + 1)\n",
    "                break\n",
    "    \n",
    "    mrr = mrr_sum / len(relevance_results) if relevance_results else 0\n",
    "    \n",
    "    return {\n",
    "        'hit_rate': hit_rate,\n",
    "        'mrr': mrr,\n",
    "        'total_queries': len(relevance_results),\n",
    "        'successful_queries': hit_count\n",
    "    }\n"
   ]
  },
  {
   "cell_type": "code",
   "execution_count": 19,
   "id": "2d6b1c27-b3af-4fa1-ab40-7c639f9d5c10",
   "metadata": {},
   "outputs": [],
   "source": [
    "# Step 6: Evaluate for different k values\n",
    "def evaluate_multiple_k(client, model, ground_truth, collection_name=\"podcast_collection\", k_values=[1, 3, 5, 10]):\n",
    "    \"\"\"Evaluate retrieval for different k values.\"\"\"\n",
    "    results = {}\n",
    "    \n",
    "    for k in k_values:\n",
    "        print(f\"\\nEvaluating for k={k}\")\n",
    "        relevance_results = evaluate_retrieval(client, model, ground_truth, collection_name, k)\n",
    "        metrics = calculate_metrics(relevance_results)\n",
    "        \n",
    "        results[k] = metrics\n",
    "        print(f\"Hit Rate: {metrics['hit_rate']:.4f}, MRR: {metrics['mrr']:.4f}\")\n",
    "    \n",
    "    return results"
   ]
  },
  {
   "cell_type": "code",
   "execution_count": 20,
   "id": "26dad79c-d04b-4405-acbc-2fe3747a341b",
   "metadata": {},
   "outputs": [
    {
     "name": "stdout",
     "output_type": "stream",
     "text": [
      "Evaluating search performance...\n",
      "\n",
      "Evaluating for k=1\n"
     ]
    },
    {
     "name": "stderr",
     "output_type": "stream",
     "text": [
      "Evaluating episodes:   0%|                                                                                                                                                           | 0/411 [00:00<?, ?it/s]/tmp/ipykernel_2796/1668380506.py:21: DeprecationWarning: `search` method is deprecated and will be removed in the future. Use `query_points` instead.\n",
      "  search_results = client.search(\n",
      "Evaluating episodes: 100%|█████████████████████████████████████████████████████████████████████████████████████████████████████████████████████████████████████████████████| 411/411 [02:32<00:00,  2.70it/s]\n"
     ]
    },
    {
     "name": "stdout",
     "output_type": "stream",
     "text": [
      "Hit Rate: 0.0783, MRR: 0.0783\n",
      "\n",
      "Evaluating for k=3\n"
     ]
    },
    {
     "name": "stderr",
     "output_type": "stream",
     "text": [
      "Evaluating episodes: 100%|█████████████████████████████████████████████████████████████████████████████████████████████████████████████████████████████████████████████████| 411/411 [02:32<00:00,  2.69it/s]\n"
     ]
    },
    {
     "name": "stdout",
     "output_type": "stream",
     "text": [
      "Hit Rate: 0.1251, MRR: 0.0983\n",
      "\n",
      "Evaluating for k=5\n"
     ]
    },
    {
     "name": "stderr",
     "output_type": "stream",
     "text": [
      "Evaluating episodes: 100%|█████████████████████████████████████████████████████████████████████████████████████████████████████████████████████████████████████████████████| 411/411 [02:31<00:00,  2.70it/s]\n"
     ]
    },
    {
     "name": "stdout",
     "output_type": "stream",
     "text": [
      "Hit Rate: 0.1591, MRR: 0.1061\n",
      "\n",
      "Evaluating for k=10\n"
     ]
    },
    {
     "name": "stderr",
     "output_type": "stream",
     "text": [
      "Evaluating episodes: 100%|█████████████████████████████████████████████████████████████████████████████████████████████████████████████████████████████████████████████████| 411/411 [02:35<00:00,  2.64it/s]"
     ]
    },
    {
     "name": "stdout",
     "output_type": "stream",
     "text": [
      "Hit Rate: 0.2107, MRR: 0.1129\n",
      "\n",
      "Final Evaluation Results:\n",
      "========================\n",
      "k=1:\n",
      "  Hit Rate: 0.0783\n",
      "  MRR:      0.0783\n",
      "  (161 out of 2055 queries successful)\n",
      "k=3:\n",
      "  Hit Rate: 0.1251\n",
      "  MRR:      0.0983\n",
      "  (257 out of 2055 queries successful)\n",
      "k=5:\n",
      "  Hit Rate: 0.1591\n",
      "  MRR:      0.1061\n",
      "  (327 out of 2055 queries successful)\n",
      "k=10:\n",
      "  Hit Rate: 0.2107\n",
      "  MRR:      0.1129\n",
      "  (433 out of 2055 queries successful)\n"
     ]
    },
    {
     "name": "stderr",
     "output_type": "stream",
     "text": [
      "\n"
     ]
    }
   ],
   "source": [
    "# Evaluate for different k values\n",
    "print(\"Evaluating search performance...\")\n",
    "results = evaluate_multiple_k(client, model, ground_truth)\n",
    "\n",
    "# Print final results\n",
    "print(\"\\nFinal Evaluation Results:\")\n",
    "print(\"========================\")\n",
    "for k, metrics in results.items():\n",
    "    print(f\"k={k}:\")\n",
    "    print(f\"  Hit Rate: {metrics['hit_rate']:.4f}\")\n",
    "    print(f\"  MRR:      {metrics['mrr']:.4f}\")\n",
    "    print(f\"  ({metrics['successful_queries']} out of {metrics['total_queries']} queries successful)\")\n"
   ]
  },
  {
   "cell_type": "code",
   "execution_count": null,
   "id": "823ea94c-2864-4464-b7e2-67d837ad42cf",
   "metadata": {},
   "outputs": [],
   "source": []
  }
 ],
 "metadata": {
  "kernelspec": {
   "display_name": "Python 3 (ipykernel)",
   "language": "python",
   "name": "python3"
  },
  "language_info": {
   "codemirror_mode": {
    "name": "ipython",
    "version": 3
   },
   "file_extension": ".py",
   "mimetype": "text/x-python",
   "name": "python",
   "nbconvert_exporter": "python",
   "pygments_lexer": "ipython3",
   "version": "3.12.1"
  }
 },
 "nbformat": 4,
 "nbformat_minor": 5
}
