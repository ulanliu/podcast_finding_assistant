{
 "cells": [
  {
   "cell_type": "code",
   "execution_count": 12,
   "id": "d1fef6ed-0c23-45dd-a261-820e9579bd87",
   "metadata": {},
   "outputs": [],
   "source": [
    "import pandas as pd\n",
    "import json\n",
    "import numpy as np\n",
    "from tqdm import tqdm\n",
    "from fastembed import TextEmbedding\n",
    "from qdrant_client import QdrantClient, models\n",
    "from sentence_transformers import SentenceTransformer"
   ]
  },
  {
   "cell_type": "code",
   "execution_count": 3,
   "id": "87c194b1-644d-40e9-89e6-814b3c111331",
   "metadata": {},
   "outputs": [
    {
     "data": {
      "application/vnd.jupyter.widget-view+json": {
       "model_id": "15f6ba59f25c47d7b70a5b0690aa41f8",
       "version_major": 2,
       "version_minor": 0
      },
      "text/plain": [
       "VBox(children=(HTML(value='<center> <img\\nsrc=https://huggingface.co/front/assets/huggingface_logo-noborder.sv…"
      ]
     },
     "metadata": {},
     "output_type": "display_data"
    }
   ],
   "source": [
    "import os\n",
    "from huggingface_hub import login\n",
    "\n",
    "huggingface_token = os.environ.get(\"HUGGINGFACE_TOKEN\")\n",
    "login(token=huggingface_token)"
   ]
  },
  {
   "cell_type": "markdown",
   "id": "aa391137-6169-48c1-b580-dbdbe41fa8d3",
   "metadata": {},
   "source": [
    "## Embed into Database"
   ]
  },
  {
   "cell_type": "code",
   "execution_count": 15,
   "id": "83319480",
   "metadata": {},
   "outputs": [],
   "source": [
    "# Step 1: Load the datasets\n",
    "def load_data():\n",
    "    \"\"\"Load the podcast data and ground truth data.\"\"\"\n",
    "    # Load podcast data from JSON\n",
    "    with open('podcast_topic.json', 'r', encoding='utf-8') as f:\n",
    "        podcast_topic = json.load(f)\n",
    "    \n",
    "    # Load ground truth data from JSON\n",
    "    with open('podcast_ground_truth.json', 'r', encoding='utf-8') as f:\n",
    "        ground_truth = json.load(f)\n",
    "    \n",
    "    return podcast_topic, ground_truth"
   ]
  },
  {
   "cell_type": "code",
   "execution_count": 16,
   "id": "834e23f3-79b2-498e-bb5d-46449a347daa",
   "metadata": {},
   "outputs": [],
   "source": [
    "# Step 2: Initialize the embedding model\n",
    "def init_model(model_name=\"intfloat/multilingual-e5-base\"):\n",
    "    \"\"\"Initialize the text embedding model.\"\"\"\n",
    "    model = SentenceTransformer(model_name)\n",
    "    \n",
    "    return model"
   ]
  },
  {
   "cell_type": "code",
   "execution_count": 3,
   "id": "42fdc714-f230-4a1e-97f1-10da357149f6",
   "metadata": {},
   "outputs": [],
   "source": [
    "# Step 3: Create a Qdrant collection and upload podcast data\n",
    "def setup_qdrant(podcast_topic, model, collection_name=\"podcast_collection\"):\n",
    "    \"\"\"Create a Qdrant collection and upload podcast vectors.\"\"\"\n",
    "    # Initialize Qdrant client\n",
    "    client = QdrantClient(url=\"http://localhost:6333\")\n",
    "\n",
    "    # Get vector dimension with a sample embedding\n",
    "    # sample_text = \"Sample text to determine vector dimensions\"\n",
    "    # sample_vector = model.encode(sample_text)\n",
    "    # vector_size = len(sample_vector)\n",
    "    \n",
    "    # Try to create collection (ignore if exists)\n",
    "    try:\n",
    "        client.create_collection(\n",
    "            collection_name=collection_name,\n",
    "            vectors_config=models.VectorParams(\n",
    "                size=model.get_sentence_embedding_dimension(),\n",
    "                distance=models.Distance.COSINE\n",
    "            )\n",
    "        )\n",
    "        print(f\"Created new collection: {collection_name}\")\n",
    "    except Exception as e:\n",
    "        print(f\"Collection may already exist: {e}\")\n",
    "    \n",
    "    # Embed and upload each podcast episode\n",
    "    points = []\n",
    "    for episode_id, content in tqdm(podcast_topic.items(), desc=\"Embedding podcast topics\"):\n",
    "        # Get topics and song if available\n",
    "        topics = content.get('topic', [])\n",
    "        song = content.get('song', \"\")\n",
    "        \n",
    "        # Create a text representation combining all topics\n",
    "        topics_text = '; '.join(topics) if topics else \"\"\n",
    "        \n",
    "        # Add song if available and not 'null' or NaN\n",
    "        full_text = topics_text\n",
    "        if song and song != \"null\" and song != \"nan\":\n",
    "            full_text += f\"; Song: {song}\"\n",
    "        \n",
    "        # Skip if no text to embed\n",
    "        if not full_text:\n",
    "            continue\n",
    "        \n",
    "        # Embed the text\n",
    "        embedding = model.encode(full_text)\n",
    "        \n",
    "        # Create a point\n",
    "        points.append(\n",
    "            models.PointStruct(\n",
    "                id=int(episode_id),\n",
    "                vector=embedding.tolist(),\n",
    "                payload={\n",
    "                    'episode': int(episode_id),\n",
    "                    'topics': topics,\n",
    "                    'song': song\n",
    "                }\n",
    "            )\n",
    "        )\n",
    "    \n",
    "    # Upload points in batches\n",
    "    batch_size = 100\n",
    "    for i in range(0, len(points), batch_size):\n",
    "        batch = points[i:i+batch_size]\n",
    "        client.upsert(\n",
    "            collection_name=collection_name,\n",
    "            points=batch\n",
    "        )\n",
    "    \n",
    "    print(f\"Uploaded {len(points)} episodes to Qdrant.\")\n",
    "    return client"
   ]
  },
  {
   "cell_type": "code",
   "execution_count": 20,
   "id": "69d682ac-4b3a-4c36-afba-bb692c530522",
   "metadata": {},
   "outputs": [],
   "source": [
    "# Step 4: Evaluate retrieval using ground truth data\n",
    "def evaluate_retrieval(client, model, ground_truth, collection_name=\"podcast_collection\", k=5):\n",
    "    \"\"\"\n",
    "    Evaluate retrieval performance using ground truth data.\n",
    "    \n",
    "    For each sentence in the ground truth data, embed it and query Qdrant.\n",
    "    Check if the correct episode is in the top k results.\n",
    "    \"\"\"\n",
    "    # Prepare to store results\n",
    "    all_relevance = []\n",
    "    \n",
    "    # Process each episode and its data\n",
    "    for episode_id, episode_data in tqdm(ground_truth.items(), desc=\"Evaluating episodes\"):\n",
    "        words = episode_data.get('word', [])\n",
    "        \n",
    "        for word in words:\n",
    "            # Embed the sentence\n",
    "            query_vector = model.encode(word)\n",
    "            \n",
    "            # Query Qdrant\n",
    "            search_results = client.search(\n",
    "                collection_name=collection_name,\n",
    "                query_vector=query_vector.tolist(),\n",
    "                limit=k\n",
    "            )\n",
    "            \n",
    "            # Check if the correct episode is in the results\n",
    "            result_ids = [result.id for result in search_results]\n",
    "            relevance = [int(episode_id) == result_id for result_id in result_ids]\n",
    "            \n",
    "            all_relevance.append(relevance)\n",
    "    \n",
    "    return all_relevance"
   ]
  },
  {
   "cell_type": "code",
   "execution_count": 5,
   "id": "768369b1-dc75-434a-a31a-388f89ae88f2",
   "metadata": {},
   "outputs": [],
   "source": [
    "# Step 5: Calculate metrics\n",
    "def calculate_metrics(relevance_results):\n",
    "    \"\"\"Calculate hit rate and MRR from relevance results.\"\"\"\n",
    "    # Hit rate (Recall@k)\n",
    "    hit_count = sum(1 for relevance in relevance_results if True in relevance)\n",
    "    hit_rate = hit_count / len(relevance_results) if relevance_results else 0\n",
    "    \n",
    "    # Mean Reciprocal Rank (MRR)\n",
    "    mrr_sum = 0\n",
    "    for relevance in relevance_results:\n",
    "        for i, is_relevant in enumerate(relevance):\n",
    "            if is_relevant:\n",
    "                mrr_sum += 1 / (i + 1)\n",
    "                break\n",
    "    \n",
    "    mrr = mrr_sum / len(relevance_results) if relevance_results else 0\n",
    "    \n",
    "    return {\n",
    "        'hit_rate': hit_rate,\n",
    "        'mrr': mrr,\n",
    "        'total_queries': len(relevance_results),\n",
    "        'successful_queries': hit_count\n",
    "    }"
   ]
  },
  {
   "cell_type": "code",
   "execution_count": 17,
   "id": "f5470214-d6f5-4c5e-a355-8879a1e67ba2",
   "metadata": {},
   "outputs": [],
   "source": [
    "# Step 6: Evaluate for different k values\n",
    "def evaluate_multiple_k(client, model, ground_truth, collection_name=\"podcast_collection\", k_values=[3, 5, 10]):\n",
    "    \"\"\"Evaluate retrieval for different k values.\"\"\"\n",
    "    results = {}\n",
    "    \n",
    "    for k in k_values:\n",
    "        print(f\"\\nEvaluating for k={k}\")\n",
    "        relevance_results = evaluate_retrieval(client, model, ground_truth, collection_name, k)\n",
    "        metrics = calculate_metrics(relevance_results)\n",
    "        \n",
    "        results[k] = metrics\n",
    "        print(f\"Hit Rate: {metrics['hit_rate']:.4f}, MRR: {metrics['mrr']:.4f}\")\n",
    "    \n",
    "    return results"
   ]
  },
  {
   "cell_type": "code",
   "execution_count": 19,
   "id": "97a6c4e4-18a9-436a-8c27-879dc201dfdd",
   "metadata": {
    "scrolled": true
   },
   "outputs": [
    {
     "name": "stdout",
     "output_type": "stream",
     "text": [
      "Loading data...\n"
     ]
    },
    {
     "data": {
      "application/vnd.jupyter.widget-view+json": {
       "model_id": "4313b808e5ea4d7c9c88206d81096158",
       "version_major": 2,
       "version_minor": 0
      },
      "text/plain": [
       "modules.json:   0%|          | 0.00/387 [00:00<?, ?B/s]"
      ]
     },
     "metadata": {},
     "output_type": "display_data"
    },
    {
     "data": {
      "application/vnd.jupyter.widget-view+json": {
       "model_id": "f4bdbcae59c640668828d63a1019ceb9",
       "version_major": 2,
       "version_minor": 0
      },
      "text/plain": [
       "sentence_bert_config.json:   0%|          | 0.00/57.0 [00:00<?, ?B/s]"
      ]
     },
     "metadata": {},
     "output_type": "display_data"
    },
    {
     "data": {
      "application/vnd.jupyter.widget-view+json": {
       "model_id": "92c48b51ca184a14900ddfbcecb871cc",
       "version_major": 2,
       "version_minor": 0
      },
      "text/plain": [
       "config.json:   0%|          | 0.00/694 [00:00<?, ?B/s]"
      ]
     },
     "metadata": {},
     "output_type": "display_data"
    },
    {
     "data": {
      "application/vnd.jupyter.widget-view+json": {
       "model_id": "b4099b05a9bc40c6998d30fb1794c3c7",
       "version_major": 2,
       "version_minor": 0
      },
      "text/plain": [
       "model.safetensors:   0%|          | 0.00/1.11G [00:00<?, ?B/s]"
      ]
     },
     "metadata": {},
     "output_type": "display_data"
    },
    {
     "data": {
      "application/vnd.jupyter.widget-view+json": {
       "model_id": "9d6b324d18d949d1bfe79d2994e96c51",
       "version_major": 2,
       "version_minor": 0
      },
      "text/plain": [
       "model_optimized.onnx:   0%|          | 0.00/218M [00:00<?, ?B/s]"
      ]
     },
     "metadata": {},
     "output_type": "display_data"
    },
    {
     "data": {
      "application/vnd.jupyter.widget-view+json": {
       "model_id": "0289ac9b7e3945d9bbe077efae45d754",
       "version_major": 2,
       "version_minor": 0
      },
      "text/plain": [
       "tokenizer_config.json:   0%|          | 0.00/418 [00:00<?, ?B/s]"
      ]
     },
     "metadata": {},
     "output_type": "display_data"
    },
    {
     "data": {
      "application/vnd.jupyter.widget-view+json": {
       "model_id": "ebbc535161144eada787bf7db4010f6d",
       "version_major": 2,
       "version_minor": 0
      },
      "text/plain": [
       "sentencepiece.bpe.model:   0%|          | 0.00/5.07M [00:00<?, ?B/s]"
      ]
     },
     "metadata": {},
     "output_type": "display_data"
    },
    {
     "data": {
      "application/vnd.jupyter.widget-view+json": {
       "model_id": "f8af99b47b24403a9f069d4e7ed9a0b2",
       "version_major": 2,
       "version_minor": 0
      },
      "text/plain": [
       "tokenizer.json:   0%|          | 0.00/17.1M [00:00<?, ?B/s]"
      ]
     },
     "metadata": {},
     "output_type": "display_data"
    },
    {
     "data": {
      "application/vnd.jupyter.widget-view+json": {
       "model_id": "02bbc875b6e143cab30f5d17ae9d3197",
       "version_major": 2,
       "version_minor": 0
      },
      "text/plain": [
       "special_tokens_map.json:   0%|          | 0.00/280 [00:00<?, ?B/s]"
      ]
     },
     "metadata": {},
     "output_type": "display_data"
    },
    {
     "data": {
      "application/vnd.jupyter.widget-view+json": {
       "model_id": "0469a1158e0e461598f03c56b98ee31b",
       "version_major": 2,
       "version_minor": 0
      },
      "text/plain": [
       "config.json:   0%|          | 0.00/200 [00:00<?, ?B/s]"
      ]
     },
     "metadata": {},
     "output_type": "display_data"
    },
    {
     "name": "stdout",
     "output_type": "stream",
     "text": [
      "Setting up Qdrant...\n",
      "Collection may already exist: timed out\n"
     ]
    },
    {
     "name": "stderr",
     "output_type": "stream",
     "text": [
      "Embedding podcast topics: 100%|████████████████████████████████████████████████████████████████████████████████████████████████████████████████████████████████████████████████████████████| 411/411 [01:16<00:00,  5.40it/s]\n"
     ]
    },
    {
     "name": "stdout",
     "output_type": "stream",
     "text": [
      "Uploaded 411 episodes to Qdrant.\n",
      "Evaluating search performance...\n",
      "\n",
      "Evaluating for k=3\n"
     ]
    },
    {
     "name": "stderr",
     "output_type": "stream",
     "text": [
      "Evaluating episodes:   0%|                                                                                                                                                                           | 0/411 [00:00<?, ?it/s]/tmp/ipykernel_27447/2444658033.py:21: DeprecationWarning: `search` method is deprecated and will be removed in the future. Use `query_points` instead.\n",
      "  search_results = client.search(\n",
      "Evaluating episodes: 100%|█████████████████████████████████████████████████████████████████████████████████████████████████████████████████████████████████████████████████████████████████| 411/411 [00:04<00:00, 88.36it/s]\n"
     ]
    },
    {
     "name": "stdout",
     "output_type": "stream",
     "text": [
      "Hit Rate: 0.0787, MRR: 0.0543\n",
      "\n",
      "Evaluating for k=5\n"
     ]
    },
    {
     "name": "stderr",
     "output_type": "stream",
     "text": [
      "Evaluating episodes: 100%|█████████████████████████████████████████████████████████████████████████████████████████████████████████████████████████████████████████████████████████████████| 411/411 [00:04<00:00, 88.39it/s]\n"
     ]
    },
    {
     "name": "stdout",
     "output_type": "stream",
     "text": [
      "Hit Rate: 0.1573, MRR: 0.0723\n",
      "\n",
      "Evaluating for k=10\n"
     ]
    },
    {
     "name": "stderr",
     "output_type": "stream",
     "text": [
      "Evaluating episodes: 100%|█████████████████████████████████████████████████████████████████████████████████████████████████████████████████████████████████████████████████████████████████| 411/411 [00:04<00:00, 88.78it/s]"
     ]
    },
    {
     "name": "stdout",
     "output_type": "stream",
     "text": [
      "Hit Rate: 0.2472, MRR: 0.0847\n",
      "\n",
      "Final Evaluation Results:\n",
      "========================\n",
      "k=3:\n",
      "  Hit Rate: 0.0787\n",
      "  MRR:      0.0543\n",
      "  (7 out of 89 queries successful)\n",
      "k=5:\n",
      "  Hit Rate: 0.1573\n",
      "  MRR:      0.0723\n",
      "  (14 out of 89 queries successful)\n",
      "k=10:\n",
      "  Hit Rate: 0.2472\n",
      "  MRR:      0.0847\n",
      "  (22 out of 89 queries successful)\n",
      "\n",
      "Results saved to evaluation_results.json\n"
     ]
    },
    {
     "name": "stderr",
     "output_type": "stream",
     "text": [
      "\n"
     ]
    }
   ],
   "source": [
    "print(\"Loading data...\")\n",
    "podcast_topic, ground_truth = load_data()\n",
    "\n",
    "# Initialize model\n",
    "model = init_model()\n",
    "\n",
    "# Setup Qdrant\n",
    "print(\"Setting up Qdrant...\")\n",
    "client = setup_qdrant(podcast_topic, model)\n",
    "\n",
    "# Evaluate for different k values\n",
    "print(\"Evaluating search performance...\")\n",
    "results = evaluate_multiple_k(client, model, ground_truth)\n",
    "\n",
    "# Print final results\n",
    "print(\"\\nFinal Evaluation Results:\")\n",
    "print(\"========================\")\n",
    "for k, metrics in results.items():\n",
    "    print(f\"k={k}:\")\n",
    "    print(f\"  Hit Rate: {metrics['hit_rate']:.4f}\")\n",
    "    print(f\"  MRR:      {metrics['mrr']:.4f}\")\n",
    "    print(f\"  ({metrics['successful_queries']} out of {metrics['total_queries']} queries successful)\")\n",
    "\n",
    "# Save results to file\n",
    "with open('evaluation_results.json', 'w') as f:\n",
    "    json.dump(results, f, indent=2)\n",
    "\n",
    "print(\"\\nResults saved to evaluation_results.json\")"
   ]
  },
  {
   "cell_type": "code",
   "execution_count": 21,
   "id": "e3e33f7c-8c69-4c0c-8a7f-683c3bc6bc3a",
   "metadata": {
    "scrolled": true
   },
   "outputs": [
    {
     "name": "stdout",
     "output_type": "stream",
     "text": [
      "Evaluating search performance...\n",
      "\n",
      "Evaluating for k=3\n"
     ]
    },
    {
     "name": "stderr",
     "output_type": "stream",
     "text": [
      "Evaluating episodes:   0%|                                                                      | 0/411 [00:00<?, ?it/s]/tmp/ipykernel_27447/3006615302.py:21: DeprecationWarning: `search` method is deprecated and will be removed in the future. Use `query_points` instead.\n",
      "  search_results = client.search(\n",
      "Evaluating episodes: 100%|████████████████████████████████████████████████████████████| 411/411 [01:43<00:00,  3.97it/s]\n"
     ]
    },
    {
     "name": "stdout",
     "output_type": "stream",
     "text": [
      "Hit Rate: 0.5125, MRR: 0.4268\n",
      "\n",
      "Evaluating for k=5\n"
     ]
    },
    {
     "name": "stderr",
     "output_type": "stream",
     "text": [
      "Evaluating episodes: 100%|████████████████████████████████████████████████████████████| 411/411 [01:43<00:00,  3.99it/s]\n"
     ]
    },
    {
     "name": "stdout",
     "output_type": "stream",
     "text": [
      "Hit Rate: 0.5687, MRR: 0.4396\n",
      "\n",
      "Evaluating for k=10\n"
     ]
    },
    {
     "name": "stderr",
     "output_type": "stream",
     "text": [
      "Evaluating episodes: 100%|████████████████████████████████████████████████████████████| 411/411 [01:43<00:00,  3.98it/s]"
     ]
    },
    {
     "name": "stdout",
     "output_type": "stream",
     "text": [
      "Hit Rate: 0.6518, MRR: 0.4507\n",
      "\n",
      "Final Evaluation Results:\n",
      "========================\n",
      "k=3:\n",
      "  Hit Rate: 0.5125\n",
      "  MRR:      0.4268\n",
      "  (1048 out of 2045 queries successful)\n",
      "k=5:\n",
      "  Hit Rate: 0.5687\n",
      "  MRR:      0.4396\n",
      "  (1163 out of 2045 queries successful)\n",
      "k=10:\n",
      "  Hit Rate: 0.6518\n",
      "  MRR:      0.4507\n",
      "  (1333 out of 2045 queries successful)\n",
      "\n",
      "Results saved to evaluation_results.json\n"
     ]
    },
    {
     "name": "stderr",
     "output_type": "stream",
     "text": [
      "\n"
     ]
    }
   ],
   "source": [
    "# Evaluate for different k values\n",
    "print(\"Evaluating search performance...\")\n",
    "results = evaluate_multiple_k(client, model, ground_truth)\n",
    "\n",
    "# Print final results\n",
    "print(\"\\nFinal Evaluation Results:\")\n",
    "print(\"========================\")\n",
    "for k, metrics in results.items():\n",
    "    print(f\"k={k}:\")\n",
    "    print(f\"  Hit Rate: {metrics['hit_rate']:.4f}\")\n",
    "    print(f\"  MRR:      {metrics['mrr']:.4f}\")\n",
    "    print(f\"  ({metrics['successful_queries']} out of {metrics['total_queries']} queries successful)\")\n",
    "\n",
    "# Save results to file\n",
    "with open('evaluation_results.json', 'w') as f:\n",
    "    json.dump(results, f, indent=2)\n",
    "\n",
    "print(\"\\nResults saved to evaluation_results.json\")"
   ]
  },
  {
   "cell_type": "markdown",
   "id": "77191e7f",
   "metadata": {},
   "source": [
    "### Use the BAAI/bge-base-en-v1.5 from FastEmbed"
   ]
  },
  {
   "cell_type": "code",
   "execution_count": 6,
   "id": "cc341dff-ac2d-45ac-8797-49e05657f774",
   "metadata": {},
   "outputs": [],
   "source": [
    "client = QdrantClient(url=\"http://localhost:6333\")"
   ]
  },
  {
   "cell_type": "code",
   "execution_count": 7,
   "id": "bad69b24-a38c-40d4-aaea-d5ebbac1298a",
   "metadata": {},
   "outputs": [
    {
     "data": {
      "application/vnd.jupyter.widget-view+json": {
       "model_id": "910a0bd1ee264e4589d1843645f62cce",
       "version_major": 2,
       "version_minor": 0
      },
      "text/plain": [
       "False"
      ]
     },
     "execution_count": 7,
     "metadata": {},
     "output_type": "display_data"
    },
    {
     "data": {
      "application/vnd.jupyter.widget-view+json": {
       "model_id": "35224d9d550343b0a088abce8ad0236b",
       "version_major": 2,
       "version_minor": 0
      },
      "text/plain": [
       "model_optimized.onnx:   0%|          | 0.00/218M [00:00<?, ?B/s]"
      ]
     },
     "metadata": {},
     "output_type": "display_data"
    },
    {
     "data": {
      "application/vnd.jupyter.widget-view+json": {
       "model_id": "f4333cafc7ee45ea9c81026cdca7e887",
       "version_major": 2,
       "version_minor": 0
      },
      "text/plain": [
       "special_tokens_map.json:   0%|          | 0.00/695 [00:00<?, ?B/s]"
      ]
     },
     "metadata": {},
     "output_type": "display_data"
    },
    {
     "data": {
      "application/vnd.jupyter.widget-view+json": {
       "model_id": "2446abb54eaa482980bb928b30386c1d",
       "version_major": 2,
       "version_minor": 0
      },
      "text/plain": [
       "tokenizer.json:   0%|          | 0.00/711k [00:00<?, ?B/s]"
      ]
     },
     "metadata": {},
     "output_type": "display_data"
    },
    {
     "data": {
      "application/vnd.jupyter.widget-view+json": {
       "model_id": "480852fb03b34532a97e31c852affd46",
       "version_major": 2,
       "version_minor": 0
      },
      "text/plain": [
       "tokenizer_config.json:   0%|          | 0.00/1.24k [00:00<?, ?B/s]"
      ]
     },
     "metadata": {},
     "output_type": "display_data"
    },
    {
     "data": {
      "application/vnd.jupyter.widget-view+json": {
       "model_id": "f16fb65cecb4445d8298ccb79e24e13d",
       "version_major": 2,
       "version_minor": 0
      },
      "text/plain": [
       "config.json:   0%|          | 0.00/740 [00:00<?, ?B/s]"
      ]
     },
     "metadata": {},
     "output_type": "display_data"
    },
    {
     "name": "stdout",
     "output_type": "stream",
     "text": [
      "The model BAAI/bge-small-en-v1.5 is ready to use.\n"
     ]
    }
   ],
   "source": [
    "model = TextEmbedding(model_name=\"BAAI/bge-base-en-v1.5\")\n",
    "print(\"The model BAAI/bge-small-en-v1.5 is ready to use.\")"
   ]
  },
  {
   "cell_type": "code",
   "execution_count": 8,
   "id": "e35bb99d-98fb-473f-918e-bec776cb4381",
   "metadata": {},
   "outputs": [],
   "source": [
    "with open('podcast_topic.json', 'r', encoding='utf-8') as f:\n",
    "    podcast_topic = json.load(f)"
   ]
  },
  {
   "cell_type": "code",
   "execution_count": 22,
   "id": "b72a083b-01c6-42e4-9ff0-84775dcf9fed",
   "metadata": {},
   "outputs": [],
   "source": [
    "def json_to_points(json_data):\n",
    "    \"\"\"\n",
    "    Converts the podcast episode JSON data into separate text strings for each episode.\n",
    "    \n",
    "    Args:\n",
    "        json_data (dict): JSON dictionary containing episode data\n",
    "        \n",
    "    Returns:\n",
    "        points: \n",
    "    \"\"\"\n",
    "    points = []\n",
    "    \n",
    "    for episode_id, content in tqdm(json_data.items()):\n",
    "        episode_text = []\n",
    "        \n",
    "        # Add topics if available\n",
    "        if 'topic' in content and content['topic']:\n",
    "            topics_text = ', '.join(content['topic'])\n",
    "            episode_text.append(topics_text)\n",
    "        \n",
    "        # Add song if available\n",
    "        if 'song' in content and content['song']:\n",
    "            episode_text.append(f\"Song: {content['song']}\")\n",
    "\n",
    "        embedding = list(model.embed('\\n'.join(episode_text)))[0]\n",
    "        \n",
    "        points.append(\n",
    "            models.PointStruct(\n",
    "                id=int(episode_id),\n",
    "                vector=embedding\n",
    "            )\n",
    "        )\n",
    "        \n",
    "    return points"
   ]
  },
  {
   "cell_type": "code",
   "execution_count": null,
   "id": "95fc2b2e-9f06-4593-be36-cf1c17c6f34e",
   "metadata": {},
   "outputs": [],
   "source": []
  },
  {
   "cell_type": "code",
   "execution_count": 18,
   "id": "aaa00a93-3ac3-48c2-83f1-b7387279dd9e",
   "metadata": {},
   "outputs": [
    {
     "name": "stdout",
     "output_type": "stream",
     "text": [
      "Created new collection: podcast_topic_collection\n"
     ]
    }
   ],
   "source": [
    "# Try to create collection (ignore if exists)\n",
    "try:\n",
    "    client.create_collection(\n",
    "        collection_name=\"podcast_topic_collection\",\n",
    "        vectors_config=models.VectorParams(\n",
    "            size=768,\n",
    "            distance=models.Distance.COSINE\n",
    "        )\n",
    "    )\n",
    "    print(f\"Created new collection: podcast_topic_collection\")\n",
    "except Exception as e:\n",
    "    print(f\"Collection may already exist: {e}\")"
   ]
  },
  {
   "cell_type": "code",
   "execution_count": null,
   "id": "ac20685a-709e-49cf-a9b9-a53761c4eef1",
   "metadata": {},
   "outputs": [],
   "source": []
  },
  {
   "cell_type": "code",
   "execution_count": null,
   "id": "8198ce38-2935-4373-a1c9-9681bbbc95da",
   "metadata": {},
   "outputs": [],
   "source": []
  },
  {
   "cell_type": "code",
   "execution_count": 23,
   "id": "1e2eb67e-0059-4b0f-9dcc-68772f307a94",
   "metadata": {},
   "outputs": [
    {
     "name": "stderr",
     "output_type": "stream",
     "text": [
      "100%|███████████████████████████████████████████████████████████████████████| 411/411 [00:57<00:00,  7.11it/s]\n"
     ]
    }
   ],
   "source": [
    "embed_points = json_to_points(podcast_topic)"
   ]
  },
  {
   "cell_type": "code",
   "execution_count": 24,
   "id": "74d04f9e-11e2-4058-9f8d-cb1ee36e3e59",
   "metadata": {},
   "outputs": [
    {
     "data": {
      "text/plain": [
       "UpdateResult(operation_id=0, status=<UpdateStatus.COMPLETED: 'completed'>)"
      ]
     },
     "execution_count": 24,
     "metadata": {},
     "output_type": "execute_result"
    }
   ],
   "source": [
    "client.upsert(\n",
    "    collection_name=\"podcast_topic_collection\",\n",
    "    points=embed_points\n",
    ")"
   ]
  },
  {
   "cell_type": "code",
   "execution_count": 4,
   "id": "40490852-863d-4655-8868-4a8726fd597f",
   "metadata": {},
   "outputs": [
    {
     "ename": "NameError",
     "evalue": "name 'model' is not defined",
     "output_type": "error",
     "traceback": [
      "\u001b[0;31m---------------------------------------------------------------------------\u001b[0m",
      "\u001b[0;31mNameError\u001b[0m                                 Traceback (most recent call last)",
      "Cell \u001b[0;32mIn[4], line 5\u001b[0m\n\u001b[1;32m      3\u001b[0m \u001b[38;5;66;03m# Get vector dimension\u001b[39;00m\n\u001b[1;32m      4\u001b[0m sample_text \u001b[38;5;241m=\u001b[39m \u001b[38;5;124mf\u001b[39m\u001b[38;5;124m\"\u001b[39m\u001b[38;5;124mtitle:\u001b[39m\u001b[38;5;132;01m{\u001b[39;00mdf\u001b[38;5;241m.\u001b[39miloc[\u001b[38;5;241m0\u001b[39m][\u001b[38;5;124m'\u001b[39m\u001b[38;5;124mtitle\u001b[39m\u001b[38;5;124m'\u001b[39m]\u001b[38;5;132;01m}\u001b[39;00m\u001b[38;5;124m; summary:\u001b[39m\u001b[38;5;132;01m{\u001b[39;00mdf\u001b[38;5;241m.\u001b[39miloc[\u001b[38;5;241m0\u001b[39m][\u001b[38;5;124m'\u001b[39m\u001b[38;5;124msummary\u001b[39m\u001b[38;5;124m'\u001b[39m]\u001b[38;5;132;01m}\u001b[39;00m\u001b[38;5;124m\"\u001b[39m\n\u001b[0;32m----> 5\u001b[0m sample_vector \u001b[38;5;241m=\u001b[39m \u001b[38;5;28mlist\u001b[39m(\u001b[43mmodel\u001b[49m\u001b[38;5;241m.\u001b[39membed(sample_text))[\u001b[38;5;241m0\u001b[39m]\n\u001b[1;32m      6\u001b[0m vector_size \u001b[38;5;241m=\u001b[39m \u001b[38;5;28mlen\u001b[39m(sample_vector)\n\u001b[1;32m      8\u001b[0m \u001b[38;5;66;03m# Try to create collection (ignore if exists)\u001b[39;00m\n",
      "\u001b[0;31mNameError\u001b[0m: name 'model' is not defined"
     ]
    }
   ],
   "source": [
    "client = QdrantClient(url=\"http://localhost:6333\")\n",
    "\n",
    "# Get vector dimension\n",
    "sample_text = f\"title:{df.iloc[0]['title']}; summary:{df.iloc[0]['summary']}\"\n",
    "sample_vector = list(model.embed(sample_text))[0]\n",
    "vector_size = len(sample_vector)\n",
    "\n",
    "# Try to create collection (ignore if exists)\n",
    "try:\n",
    "    client.create_collection(\n",
    "        collection_name=\"podcast_collection\",\n",
    "        vectors_config=models.VectorParams(\n",
    "            size=vector_size,\n",
    "            distance=models.Distance.COSINE\n",
    "        )\n",
    "    )\n",
    "    print(f\"Created new collection: podcast_collection\")\n",
    "except Exception as e:\n",
    "    print(f\"Collection may already exist: {e}\")"
   ]
  },
  {
   "cell_type": "code",
   "execution_count": 13,
   "id": "5312a16f-0512-4a04-b48c-cc74b4a626cd",
   "metadata": {},
   "outputs": [
    {
     "data": {
      "text/plain": [
       "UpdateResult(operation_id=0, status=<UpdateStatus.COMPLETED: 'completed'>)"
      ]
     },
     "execution_count": 13,
     "metadata": {},
     "output_type": "execute_result"
    }
   ],
   "source": [
    "client.upsert(\n",
    "    collection_name=\"podcast_collection\",\n",
    "    points=embed_points\n",
    ")"
   ]
  },
  {
   "cell_type": "code",
   "execution_count": null,
   "id": "e60de894-bcec-4b35-a68a-210fad33180a",
   "metadata": {},
   "outputs": [],
   "source": [
    "# def setup_qdrant(podcast_df, model, collection_name=\"podcast_collection\"):\n",
    "#     \"\"\"Create a Qdrant collection and upload podcast vectors.\"\"\"\n",
    "#     # Initialize Qdrant client\n",
    "#     client = QdrantClient(url=\"http://localhost:6333\")\n",
    "    \n",
    "#     # Get vector dimension\n",
    "#     sample_text = f\"title:{podcast_df.iloc[0]['title']}; summary:{podcast_df.iloc[0]['summary']}\"\n",
    "#     sample_vector = list(model.embed(sample_text))[0]\n",
    "#     vector_size = len(sample_vector)\n",
    "    \n",
    "#     # Try to create collection (ignore if exists)\n",
    "#     try:\n",
    "#         client.create_collection(\n",
    "#             collection_name=collection_name,\n",
    "#             vectors_config=models.VectorParams(\n",
    "#                 size=vector_size,\n",
    "#                 distance=models.Distance.COSINE\n",
    "#             )\n",
    "#         )\n",
    "#         print(f\"Created new collection: {collection_name}\")\n",
    "#     except Exception as e:\n",
    "#         print(f\"Collection may already exist: {e}\")\n",
    "    \n",
    "#     # Embed and upload each podcast episode\n",
    "#     points = []\n",
    "#     for _, row in tqdm(podcast_df.iterrows(), total=len(podcast_df), desc=\"Embedding podcast episodes\"):\n",
    "#         episode_id = row['episode']\n",
    "#         title = row['title'] if not pd.isna(row['title']) else \"\"\n",
    "#         summary = row['summary'] if not pd.isna(row['summary']) else \"\"\n",
    "        \n",
    "#         # Create a text representation of the episode\n",
    "#         text_representation = f\"title:{title}; summary:{summary}\"\n",
    "        \n",
    "#         # Embed the text\n",
    "#         embedding = list(model.embed(text_representation))[0]\n",
    "        \n",
    "#         # Create a point\n",
    "#         points.append(\n",
    "#             models.PointStruct(\n",
    "#                 id=int(episode_id),\n",
    "#                 vector=embedding,\n",
    "#                 payload={\n",
    "#                     'episode': int(episode_id),\n",
    "#                     'title': title,\n",
    "#                     'summary': summary\n",
    "#                 }\n",
    "#             )\n",
    "#         )\n",
    "    \n",
    "#     # Upload points in batches\n",
    "#     batch_size = 100\n",
    "#     for i in range(0, len(points), batch_size):\n",
    "#         batch = points[i:i+batch_size]\n",
    "#         client.upsert(\n",
    "#             collection_name=collection_name,\n",
    "#             points=batch\n",
    "#         )\n",
    "    \n",
    "#     print(f\"Uploaded {len(points)} episodes to Qdrant.\")\n",
    "#     return client"
   ]
  },
  {
   "cell_type": "code",
   "execution_count": 29,
   "id": "4a7b57e8-e235-4b71-988c-273b0f30cced",
   "metadata": {},
   "outputs": [],
   "source": [
    "with open('podcast_ground_truth.json', 'r', encoding='utf-8') as f:\n",
    "    ground_truth = json.load(f)"
   ]
  },
  {
   "cell_type": "code",
   "execution_count": 31,
   "id": "dd102360-7a2c-4ee2-be87-04f19d9154c2",
   "metadata": {},
   "outputs": [],
   "source": [
    "# Step 4: Evaluate retrieval using ground truth sentences\n",
    "def evaluate_retrieval(client, model, ground_truth, collection_name=\"podcast_topic_collection\", k=5):\n",
    "    \"\"\"\n",
    "    Evaluate retrieval performance using ground truth sentences.\n",
    "    \n",
    "    For each sentence in the ground truth data, embed it and query Qdrant.\n",
    "    Check if the correct episode is in the top k results.\n",
    "    \"\"\"\n",
    "    # Prepare to store results\n",
    "    all_relevance = []\n",
    "    \n",
    "    # Process each episode and its sentences\n",
    "    for episode_id, episode_data in tqdm(ground_truth.items(), desc=\"Evaluating episodes\"):\n",
    "        sentences = episode_data.get('sentence', [])\n",
    "        \n",
    "        for sentence in sentences:\n",
    "            # Embed the sentence\n",
    "            query_vector = list(model.embed(sentence))[0]\n",
    "            \n",
    "            # Query Qdrant\n",
    "            search_results = client.search(\n",
    "                collection_name=collection_name,\n",
    "                query_vector=query_vector,\n",
    "                limit=k\n",
    "            )\n",
    "            \n",
    "            # Check if the correct episode is in the results\n",
    "            result_ids = [result.id for result in search_results]\n",
    "            relevance = [int(episode_id) == result_id for result_id in result_ids]\n",
    "            \n",
    "            all_relevance.append(relevance)\n",
    "    \n",
    "    return all_relevance"
   ]
  },
  {
   "cell_type": "code",
   "execution_count": 26,
   "id": "0d18e399-aab3-4352-a970-b7917e62f04b",
   "metadata": {},
   "outputs": [],
   "source": [
    "# Step 5: Calculate metrics\n",
    "def calculate_metrics(relevance_results):\n",
    "    \"\"\"Calculate hit rate and MRR from relevance results.\"\"\"\n",
    "    # Hit rate (Recall@k)\n",
    "    hit_count = sum(1 for relevance in relevance_results if True in relevance)\n",
    "    hit_rate = hit_count / len(relevance_results) if relevance_results else 0\n",
    "    \n",
    "    # Mean Reciprocal Rank (MRR)\n",
    "    mrr_sum = 0\n",
    "    for relevance in relevance_results:\n",
    "        for i, is_relevant in enumerate(relevance):\n",
    "            if is_relevant:\n",
    "                mrr_sum += 1 / (i + 1)\n",
    "                break\n",
    "    \n",
    "    mrr = mrr_sum / len(relevance_results) if relevance_results else 0\n",
    "    \n",
    "    return {\n",
    "        'hit_rate': hit_rate,\n",
    "        'mrr': mrr,\n",
    "        'total_queries': len(relevance_results),\n",
    "        'successful_queries': hit_count\n",
    "    }\n"
   ]
  },
  {
   "cell_type": "code",
   "execution_count": 33,
   "id": "2d6b1c27-b3af-4fa1-ab40-7c639f9d5c10",
   "metadata": {},
   "outputs": [],
   "source": [
    "# Step 6: Evaluate for different k values\n",
    "def evaluate_multiple_k(client, model, ground_truth, collection_name=\"podcast_topic_collection\", k_values=[3, 5, 10]):\n",
    "    \"\"\"Evaluate retrieval for different k values.\"\"\"\n",
    "    results = {}\n",
    "    \n",
    "    for k in k_values:\n",
    "        print(f\"\\nEvaluating for k={k}\")\n",
    "        relevance_results = evaluate_retrieval(client, model, ground_truth, collection_name, k)\n",
    "        metrics = calculate_metrics(relevance_results)\n",
    "        \n",
    "        results[k] = metrics\n",
    "        print(f\"Hit Rate: {metrics['hit_rate']:.4f}, MRR: {metrics['mrr']:.4f}\")\n",
    "    \n",
    "    return results"
   ]
  },
  {
   "cell_type": "code",
   "execution_count": 34,
   "id": "26dad79c-d04b-4405-acbc-2fe3747a341b",
   "metadata": {},
   "outputs": [
    {
     "name": "stdout",
     "output_type": "stream",
     "text": [
      "Evaluating search performance...\n",
      "\n",
      "Evaluating for k=3\n"
     ]
    },
    {
     "name": "stderr",
     "output_type": "stream",
     "text": [
      "Evaluating episodes:   0%|                                                            | 0/411 [00:00<?, ?it/s]/var/folders/f5/c2cthfkx51zdsrmg13dv_kwh0000gn/T/ipykernel_32524/684283197.py:21: DeprecationWarning: `search` method is deprecated and will be removed in the future. Use `query_points` instead.\n",
      "  search_results = client.search(\n",
      "Evaluating episodes: 100%|██████████████████████████████████████████████████| 411/411 [03:50<00:00,  1.78it/s]\n"
     ]
    },
    {
     "name": "stdout",
     "output_type": "stream",
     "text": [
      "Hit Rate: 0.2092, MRR: 0.1672\n",
      "\n",
      "Evaluating for k=5\n"
     ]
    },
    {
     "name": "stderr",
     "output_type": "stream",
     "text": [
      "Evaluating episodes: 100%|██████████████████████████████████████████████████| 411/411 [04:06<00:00,  1.67it/s]\n"
     ]
    },
    {
     "name": "stdout",
     "output_type": "stream",
     "text": [
      "Hit Rate: 0.2511, MRR: 0.1768\n",
      "\n",
      "Evaluating for k=10\n"
     ]
    },
    {
     "name": "stderr",
     "output_type": "stream",
     "text": [
      "Evaluating episodes: 100%|██████████████████████████████████████████████████| 411/411 [03:07<00:00,  2.20it/s]"
     ]
    },
    {
     "name": "stdout",
     "output_type": "stream",
     "text": [
      "Hit Rate: 0.3148, MRR: 0.1855\n",
      "\n",
      "Final Evaluation Results:\n",
      "========================\n",
      "k=3:\n",
      "  Hit Rate: 0.2092\n",
      "  MRR:      0.1672\n",
      "  (430 out of 2055 queries successful)\n",
      "k=5:\n",
      "  Hit Rate: 0.2511\n",
      "  MRR:      0.1768\n",
      "  (516 out of 2055 queries successful)\n",
      "k=10:\n",
      "  Hit Rate: 0.3148\n",
      "  MRR:      0.1855\n",
      "  (647 out of 2055 queries successful)\n"
     ]
    },
    {
     "name": "stderr",
     "output_type": "stream",
     "text": [
      "\n"
     ]
    }
   ],
   "source": [
    "# Evaluate for different k values\n",
    "print(\"Evaluating search performance...\")\n",
    "results = evaluate_multiple_k(client, model, ground_truth)\n",
    "\n",
    "# Print final results\n",
    "print(\"\\nFinal Evaluation Results:\")\n",
    "print(\"========================\")\n",
    "for k, metrics in results.items():\n",
    "    print(f\"k={k}:\")\n",
    "    print(f\"  Hit Rate: {metrics['hit_rate']:.4f}\")\n",
    "    print(f\"  MRR:      {metrics['mrr']:.4f}\")\n",
    "    print(f\"  ({metrics['successful_queries']} out of {metrics['total_queries']} queries successful)\")\n"
   ]
  },
  {
   "cell_type": "code",
   "execution_count": null,
   "id": "823ea94c-2864-4464-b7e2-67d837ad42cf",
   "metadata": {},
   "outputs": [],
   "source": []
  }
 ],
 "metadata": {
  "kernelspec": {
   "display_name": "Python 3 (ipykernel)",
   "language": "python",
   "name": "python3"
  },
  "language_info": {
   "codemirror_mode": {
    "name": "ipython",
    "version": 3
   },
   "file_extension": ".py",
   "mimetype": "text/x-python",
   "name": "python",
   "nbconvert_exporter": "python",
   "pygments_lexer": "ipython3",
   "version": "3.12.6"
  }
 },
 "nbformat": 4,
 "nbformat_minor": 5
}
