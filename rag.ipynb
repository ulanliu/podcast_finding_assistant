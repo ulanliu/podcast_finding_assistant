{
 "cells": [
  {
   "cell_type": "code",
   "execution_count": 1,
   "id": "b3f784ed-e930-4674-9d6e-2617542e7e73",
   "metadata": {},
   "outputs": [
    {
     "ename": "ModuleNotFoundError",
     "evalue": "No module named 'qdrant_client'",
     "output_type": "error",
     "traceback": [
      "\u001b[0;31m---------------------------------------------------------------------------\u001b[0m",
      "\u001b[0;31mModuleNotFoundError\u001b[0m                       Traceback (most recent call last)",
      "Cell \u001b[0;32mIn[1], line 3\u001b[0m\n\u001b[1;32m      1\u001b[0m \u001b[38;5;28;01mimport\u001b[39;00m \u001b[38;5;21;01mpandas\u001b[39;00m \u001b[38;5;28;01mas\u001b[39;00m \u001b[38;5;21;01mpd\u001b[39;00m\n\u001b[1;32m      2\u001b[0m \u001b[38;5;28;01mimport\u001b[39;00m \u001b[38;5;21;01mnumpy\u001b[39;00m \u001b[38;5;28;01mas\u001b[39;00m \u001b[38;5;21;01mnp\u001b[39;00m\n\u001b[0;32m----> 3\u001b[0m \u001b[38;5;28;01mfrom\u001b[39;00m \u001b[38;5;21;01mqdrant_client\u001b[39;00m \u001b[38;5;28;01mimport\u001b[39;00m models, QdrantClient\n\u001b[1;32m      4\u001b[0m \u001b[38;5;66;03m# from sentence_transformers import SentenceTransformer\u001b[39;00m\n\u001b[1;32m      5\u001b[0m \u001b[38;5;28;01mfrom\u001b[39;00m \u001b[38;5;21;01mhuggingface_hub\u001b[39;00m \u001b[38;5;28;01mimport\u001b[39;00m login\n",
      "\u001b[0;31mModuleNotFoundError\u001b[0m: No module named 'qdrant_client'"
     ]
    }
   ],
   "source": [
    "import pandas as pd\n",
    "import numpy as np\n",
    "from qdrant_client import models, QdrantClient\n",
    "# from sentence_transformers import SentenceTransformer\n",
    "from huggingface_hub import login\n",
    "from tqdm import tqdm"
   ]
  },
  {
   "cell_type": "code",
   "execution_count": 2,
   "id": "9c392d68-139b-46c8-a9d7-c8763b57e3ed",
   "metadata": {},
   "outputs": [],
   "source": [
    "import os"
   ]
  },
  {
   "cell_type": "code",
   "execution_count": 3,
   "id": "2f6a6e90-69c6-4006-b9c4-dcfe29b43333",
   "metadata": {},
   "outputs": [],
   "source": [
    "huggingface_token = os.environ.get(\"HUGGINGFACE_TOKEN\")"
   ]
  },
  {
   "cell_type": "code",
   "execution_count": 4,
   "id": "a5d94129-5f6c-45f4-b2f2-7eeb7c54dd5a",
   "metadata": {},
   "outputs": [],
   "source": [
    "login(token=huggingface_token)"
   ]
  },
  {
   "cell_type": "code",
   "execution_count": 5,
   "id": "edbf0659-04af-4600-b992-8626a6b375c5",
   "metadata": {},
   "outputs": [],
   "source": [
    "df = pd.read_csv('podcast_data.csv')"
   ]
  },
  {
   "cell_type": "code",
   "execution_count": 7,
   "id": "ba856339-720b-4c21-ac16-4cd6cf13354b",
   "metadata": {
    "scrolled": true
   },
   "outputs": [
    {
     "data": {
      "text/html": [
       "<div>\n",
       "<style scoped>\n",
       "    .dataframe tbody tr th:only-of-type {\n",
       "        vertical-align: middle;\n",
       "    }\n",
       "\n",
       "    .dataframe tbody tr th {\n",
       "        vertical-align: top;\n",
       "    }\n",
       "\n",
       "    .dataframe thead th {\n",
       "        text-align: right;\n",
       "    }\n",
       "</style>\n",
       "<table border=\"1\" class=\"dataframe\">\n",
       "  <thead>\n",
       "    <tr style=\"text-align: right;\">\n",
       "      <th></th>\n",
       "      <th>episode</th>\n",
       "      <th>title</th>\n",
       "      <th>summary</th>\n",
       "      <th>song_recommendation</th>\n",
       "    </tr>\n",
       "  </thead>\n",
       "  <tbody>\n",
       "    <tr>\n",
       "      <th>0</th>\n",
       "      <td>1</td>\n",
       "      <td>沒錄到後半部的NMSL前世今生</td>\n",
       "      <td>NMSL你媽死了 最早是在CS看到的 msl是一個丹麥二線玩家（通常是一線貼紙比較貴）一個團...</td>\n",
       "      <td>NaN</td>\n",
       "    </tr>\n",
       "    <tr>\n",
       "      <th>1</th>\n",
       "      <td>2</td>\n",
       "      <td>我實在是想不到比多人運動更委婉的說法</td>\n",
       "      <td>A 片打炮算偷情 戴 VR 做愛舉報通姦罪 做公投 究極 no 選擇 用 VR 跟老婆做愛 ...</td>\n",
       "      <td>NaN</td>\n",
       "    </tr>\n",
       "    <tr>\n",
       "      <th>2</th>\n",
       "      <td>3</td>\n",
       "      <td>你聽過我爸連戰嗎?</td>\n",
       "      <td>強烈要求清大人社把學費還給艾莉莎莎，宿舍費不退 友人爭論時很愛拿綽號倒過來念來 不好笑的人都...</td>\n",
       "      <td>NaN</td>\n",
       "    </tr>\n",
       "    <tr>\n",
       "      <th>3</th>\n",
       "      <td>4</td>\n",
       "      <td>抄襲仔求生指南與周遊記挑戰失敗</td>\n",
       "      <td>Lofi house 便當怎麼抄襲都沒差 破鍋配爛蓋 不流汗的室內設計 風格師 5566 抄...</td>\n",
       "      <td>NaN</td>\n",
       "    </tr>\n",
       "    <tr>\n",
       "      <th>4</th>\n",
       "      <td>5</td>\n",
       "      <td>傑出人士表揚，李來希先生。</td>\n",
       "      <td>podcast 比 yt 好賺的原因 頻率 光頭葛格 抖內30元 祝生日快樂 先射箭再畫靶 ...</td>\n",
       "      <td>NaN</td>\n",
       "    </tr>\n",
       "  </tbody>\n",
       "</table>\n",
       "</div>"
      ],
      "text/plain": [
       "   episode               title  \\\n",
       "0        1     沒錄到後半部的NMSL前世今生   \n",
       "1        2  我實在是想不到比多人運動更委婉的說法   \n",
       "2        3           你聽過我爸連戰嗎?   \n",
       "3        4     抄襲仔求生指南與周遊記挑戰失敗   \n",
       "4        5       傑出人士表揚，李來希先生。   \n",
       "\n",
       "                                             summary song_recommendation  \n",
       "0  NMSL你媽死了 最早是在CS看到的 msl是一個丹麥二線玩家（通常是一線貼紙比較貴）一個團...                 NaN  \n",
       "1  A 片打炮算偷情 戴 VR 做愛舉報通姦罪 做公投 究極 no 選擇 用 VR 跟老婆做愛 ...                 NaN  \n",
       "2  強烈要求清大人社把學費還給艾莉莎莎，宿舍費不退 友人爭論時很愛拿綽號倒過來念來 不好笑的人都...                 NaN  \n",
       "3  Lofi house 便當怎麼抄襲都沒差 破鍋配爛蓋 不流汗的室內設計 風格師 5566 抄...                 NaN  \n",
       "4  podcast 比 yt 好賺的原因 頻率 光頭葛格 抖內30元 祝生日快樂 先射箭再畫靶 ...                 NaN  "
      ]
     },
     "execution_count": 7,
     "metadata": {},
     "output_type": "execute_result"
    }
   ],
   "source": [
    "df.head()"
   ]
  },
  {
   "cell_type": "code",
   "execution_count": 6,
   "id": "3d13d7a4-8525-466f-b222-0eef8b3476d4",
   "metadata": {},
   "outputs": [],
   "source": [
    "from fastembed import TextEmbedding"
   ]
  },
  {
   "cell_type": "code",
   "execution_count": 7,
   "id": "6b2ec42c-b48e-44ae-98bc-00719071ea85",
   "metadata": {},
   "outputs": [
    {
     "data": {
      "application/vnd.jupyter.widget-view+json": {
       "model_id": "f09d07fd46894b65b06d9e7b6d36625a",
       "version_major": 2,
       "version_minor": 0
      },
      "text/plain": [
       "Fetching 5 files:   0%|          | 0/5 [00:00<?, ?it/s]"
      ]
     },
     "metadata": {},
     "output_type": "display_data"
    },
    {
     "data": {
      "application/vnd.jupyter.widget-view+json": {
       "model_id": "8af96ac4998442e494b5247b2317bec5",
       "version_major": 2,
       "version_minor": 0
      },
      "text/plain": [
       "model_optimized.onnx:   0%|          | 0.00/218M [00:00<?, ?B/s]"
      ]
     },
     "metadata": {},
     "output_type": "display_data"
    },
    {
     "data": {
      "application/vnd.jupyter.widget-view+json": {
       "model_id": "d4401e0018d54e8c8e87d25e95e15d61",
       "version_major": 2,
       "version_minor": 0
      },
      "text/plain": [
       "special_tokens_map.json:   0%|          | 0.00/695 [00:00<?, ?B/s]"
      ]
     },
     "metadata": {},
     "output_type": "display_data"
    },
    {
     "data": {
      "application/vnd.jupyter.widget-view+json": {
       "model_id": "e999a2a376d74c29b0f8587d611bbfcc",
       "version_major": 2,
       "version_minor": 0
      },
      "text/plain": [
       "config.json:   0%|          | 0.00/740 [00:00<?, ?B/s]"
      ]
     },
     "metadata": {},
     "output_type": "display_data"
    },
    {
     "data": {
      "application/vnd.jupyter.widget-view+json": {
       "model_id": "4bf8d12fd15e465cae2fd15131b850ae",
       "version_major": 2,
       "version_minor": 0
      },
      "text/plain": [
       "tokenizer.json:   0%|          | 0.00/711k [00:00<?, ?B/s]"
      ]
     },
     "metadata": {},
     "output_type": "display_data"
    },
    {
     "data": {
      "application/vnd.jupyter.widget-view+json": {
       "model_id": "f5f439a8cb8241c48e513bb4568502ad",
       "version_major": 2,
       "version_minor": 0
      },
      "text/plain": [
       "tokenizer_config.json:   0%|          | 0.00/1.24k [00:00<?, ?B/s]"
      ]
     },
     "metadata": {},
     "output_type": "display_data"
    },
    {
     "name": "stdout",
     "output_type": "stream",
     "text": [
      "The model BAAI/bge-small-en-v1.5 is ready to use.\n"
     ]
    }
   ],
   "source": [
    "model = TextEmbedding(model_name=\"BAAI/bge-base-en-v1.5\")\n",
    "print(\"The model BAAI/bge-small-en-v1.5 is ready to use.\")"
   ]
  },
  {
   "cell_type": "code",
   "execution_count": 10,
   "id": "592ae79c-0b24-407b-bda9-d193ee4a6536",
   "metadata": {},
   "outputs": [],
   "source": [
    "def dataframe_to_text_list(df):\n",
    "    \"\"\"\n",
    "    Convert a pandas DataFrame to a list of formatted strings.\n",
    "    Each string contains column:value pairs separated by commas.\n",
    "    \n",
    "    Example: [\"column1:value1,column2:value2,...\", \"column1:value1,column2:value2,...\", ...]\n",
    "    \"\"\"\n",
    "    text_list = []\n",
    "    \n",
    "    for _, row in df.iterrows():\n",
    "        # Create a list of \"column:value\" pairs for each row\n",
    "        pairs = [f\"{col}:{val}\" for col, val in row.items()]\n",
    "        \n",
    "        # Join these pairs with commas\n",
    "        row_text = \";\".join(pairs)\n",
    "        \n",
    "        # Add the formatted row to our list\n",
    "        text_list.append(row_text)\n",
    "    \n",
    "    return text_list"
   ]
  },
  {
   "cell_type": "code",
   "execution_count": 11,
   "id": "2aba45f8-ffbe-4620-8f90-5c156b9193aa",
   "metadata": {},
   "outputs": [],
   "source": [
    "documents = dataframe_to_text_list(df)"
   ]
  },
  {
   "cell_type": "code",
   "execution_count": 12,
   "id": "e8ea5ffa-d290-4425-b41e-7311bc1cb533",
   "metadata": {},
   "outputs": [],
   "source": [
    "from tqdm.notebook import tqdm\n",
    "import numpy as np\n",
    "\n",
    "def embed_documents_with_progress(model, documents):\n",
    "    \"\"\"\n",
    "    Embed documents with a progress bar using tqdm\n",
    "    \n",
    "    Args:\n",
    "        model: The embedding model\n",
    "        documents: List of documents to embed\n",
    "        \n",
    "    Returns:\n",
    "        List of embeddings\n",
    "    \"\"\"\n",
    "    embeddings = []\n",
    "    \n",
    "    # Use tqdm to create a progress bar\n",
    "    for doc in tqdm(documents, desc=\"Embedding documents\", unit=\"doc\"):\n",
    "        embedding = list(model.embed(doc))\n",
    "        embeddings.append(embedding)\n",
    "    \n",
    "    return embeddings"
   ]
  },
  {
   "cell_type": "code",
   "execution_count": 13,
   "id": "a7f4e168-f8b9-42a4-b257-5b759a9ca02e",
   "metadata": {},
   "outputs": [
    {
     "data": {
      "application/vnd.jupyter.widget-view+json": {
       "model_id": "7b1d207c2d3b4056804ef0b9ae2ee045",
       "version_major": 2,
       "version_minor": 0
      },
      "text/plain": [
       "Embedding documents:   0%|          | 0/444 [00:00<?, ?doc/s]"
      ]
     },
     "metadata": {},
     "output_type": "display_data"
    }
   ],
   "source": [
    "embeddings = embed_documents_with_progress(model, documents)"
   ]
  },
  {
   "cell_type": "code",
   "execution_count": 10,
   "id": "34b1361e-dbaa-45d3-a6a6-def69f99ef1c",
   "metadata": {},
   "outputs": [],
   "source": [
    "from qdrant_client import QdrantClient\n",
    "\n",
    "client = QdrantClient(url=\"http://localhost:6333\")"
   ]
  },
  {
   "cell_type": "code",
   "execution_count": 11,
   "id": "84b14bd9-44c0-474a-ac72-1b69f126d34b",
   "metadata": {
    "scrolled": true
   },
   "outputs": [
    {
     "ename": "UnexpectedResponse",
     "evalue": "Unexpected Response: 409 (Conflict)\nRaw response content:\nb'{\"status\":{\"error\":\"Wrong input: Collection `test_collection` already exists!\"},\"time\":0.000226222}'",
     "output_type": "error",
     "traceback": [
      "\u001b[0;31m---------------------------------------------------------------------------\u001b[0m",
      "\u001b[0;31mUnexpectedResponse\u001b[0m                        Traceback (most recent call last)",
      "Cell \u001b[0;32mIn[11], line 1\u001b[0m\n\u001b[0;32m----> 1\u001b[0m \u001b[43mclient\u001b[49m\u001b[38;5;241;43m.\u001b[39;49m\u001b[43mcreate_collection\u001b[49m\u001b[43m(\u001b[49m\n\u001b[1;32m      2\u001b[0m \u001b[43m    \u001b[49m\u001b[43mcollection_name\u001b[49m\u001b[38;5;241;43m=\u001b[39;49m\u001b[38;5;124;43m\"\u001b[39;49m\u001b[38;5;124;43mtest_collection\u001b[39;49m\u001b[38;5;124;43m\"\u001b[39;49m\u001b[43m,\u001b[49m\n\u001b[1;32m      3\u001b[0m \u001b[43m    \u001b[49m\u001b[43mvectors_config\u001b[49m\u001b[38;5;241;43m=\u001b[39;49m\u001b[43mmodels\u001b[49m\u001b[38;5;241;43m.\u001b[39;49m\u001b[43mVectorParams\u001b[49m\u001b[43m(\u001b[49m\u001b[43msize\u001b[49m\u001b[38;5;241;43m=\u001b[39;49m\u001b[38;5;241;43m768\u001b[39;49m\u001b[43m,\u001b[49m\u001b[43m \u001b[49m\u001b[43mdistance\u001b[49m\u001b[38;5;241;43m=\u001b[39;49m\u001b[43mmodels\u001b[49m\u001b[38;5;241;43m.\u001b[39;49m\u001b[43mDistance\u001b[49m\u001b[38;5;241;43m.\u001b[39;49m\u001b[43mCOSINE\u001b[49m\u001b[43m)\u001b[49m\u001b[43m,\u001b[49m\n\u001b[1;32m      4\u001b[0m \u001b[43m)\u001b[49m\n",
      "File \u001b[0;32m/usr/local/python/3.12.1/lib/python3.12/site-packages/qdrant_client/qdrant_client.py:2310\u001b[0m, in \u001b[0;36mQdrantClient.create_collection\u001b[0;34m(self, collection_name, vectors_config, sparse_vectors_config, shard_number, sharding_method, replication_factor, write_consistency_factor, on_disk_payload, hnsw_config, optimizers_config, wal_config, quantization_config, init_from, timeout, strict_mode_config, **kwargs)\u001b[0m\n\u001b[1;32m   2260\u001b[0m \u001b[38;5;250m\u001b[39m\u001b[38;5;124;03m\"\"\"Create empty collection with given parameters\u001b[39;00m\n\u001b[1;32m   2261\u001b[0m \n\u001b[1;32m   2262\u001b[0m \u001b[38;5;124;03mArgs:\u001b[39;00m\n\u001b[0;32m   (...)\u001b[0m\n\u001b[1;32m   2306\u001b[0m \u001b[38;5;124;03m    Operation result\u001b[39;00m\n\u001b[1;32m   2307\u001b[0m \u001b[38;5;124;03m\"\"\"\u001b[39;00m\n\u001b[1;32m   2308\u001b[0m \u001b[38;5;28;01massert\u001b[39;00m \u001b[38;5;28mlen\u001b[39m(kwargs) \u001b[38;5;241m==\u001b[39m \u001b[38;5;241m0\u001b[39m, \u001b[38;5;124mf\u001b[39m\u001b[38;5;124m\"\u001b[39m\u001b[38;5;124mUnknown arguments: \u001b[39m\u001b[38;5;132;01m{\u001b[39;00m\u001b[38;5;28mlist\u001b[39m(kwargs\u001b[38;5;241m.\u001b[39mkeys())\u001b[38;5;132;01m}\u001b[39;00m\u001b[38;5;124m\"\u001b[39m\n\u001b[0;32m-> 2310\u001b[0m \u001b[38;5;28;01mreturn\u001b[39;00m \u001b[38;5;28;43mself\u001b[39;49m\u001b[38;5;241;43m.\u001b[39;49m\u001b[43m_client\u001b[49m\u001b[38;5;241;43m.\u001b[39;49m\u001b[43mcreate_collection\u001b[49m\u001b[43m(\u001b[49m\n\u001b[1;32m   2311\u001b[0m \u001b[43m    \u001b[49m\u001b[43mcollection_name\u001b[49m\u001b[38;5;241;43m=\u001b[39;49m\u001b[43mcollection_name\u001b[49m\u001b[43m,\u001b[49m\n\u001b[1;32m   2312\u001b[0m \u001b[43m    \u001b[49m\u001b[43mvectors_config\u001b[49m\u001b[38;5;241;43m=\u001b[39;49m\u001b[43mvectors_config\u001b[49m\u001b[43m,\u001b[49m\n\u001b[1;32m   2313\u001b[0m \u001b[43m    \u001b[49m\u001b[43mshard_number\u001b[49m\u001b[38;5;241;43m=\u001b[39;49m\u001b[43mshard_number\u001b[49m\u001b[43m,\u001b[49m\n\u001b[1;32m   2314\u001b[0m \u001b[43m    \u001b[49m\u001b[43msharding_method\u001b[49m\u001b[38;5;241;43m=\u001b[39;49m\u001b[43msharding_method\u001b[49m\u001b[43m,\u001b[49m\n\u001b[1;32m   2315\u001b[0m \u001b[43m    \u001b[49m\u001b[43mreplication_factor\u001b[49m\u001b[38;5;241;43m=\u001b[39;49m\u001b[43mreplication_factor\u001b[49m\u001b[43m,\u001b[49m\n\u001b[1;32m   2316\u001b[0m \u001b[43m    \u001b[49m\u001b[43mwrite_consistency_factor\u001b[49m\u001b[38;5;241;43m=\u001b[39;49m\u001b[43mwrite_consistency_factor\u001b[49m\u001b[43m,\u001b[49m\n\u001b[1;32m   2317\u001b[0m \u001b[43m    \u001b[49m\u001b[43mon_disk_payload\u001b[49m\u001b[38;5;241;43m=\u001b[39;49m\u001b[43mon_disk_payload\u001b[49m\u001b[43m,\u001b[49m\n\u001b[1;32m   2318\u001b[0m \u001b[43m    \u001b[49m\u001b[43mhnsw_config\u001b[49m\u001b[38;5;241;43m=\u001b[39;49m\u001b[43mhnsw_config\u001b[49m\u001b[43m,\u001b[49m\n\u001b[1;32m   2319\u001b[0m \u001b[43m    \u001b[49m\u001b[43moptimizers_config\u001b[49m\u001b[38;5;241;43m=\u001b[39;49m\u001b[43moptimizers_config\u001b[49m\u001b[43m,\u001b[49m\n\u001b[1;32m   2320\u001b[0m \u001b[43m    \u001b[49m\u001b[43mwal_config\u001b[49m\u001b[38;5;241;43m=\u001b[39;49m\u001b[43mwal_config\u001b[49m\u001b[43m,\u001b[49m\n\u001b[1;32m   2321\u001b[0m \u001b[43m    \u001b[49m\u001b[43mquantization_config\u001b[49m\u001b[38;5;241;43m=\u001b[39;49m\u001b[43mquantization_config\u001b[49m\u001b[43m,\u001b[49m\n\u001b[1;32m   2322\u001b[0m \u001b[43m    \u001b[49m\u001b[43minit_from\u001b[49m\u001b[38;5;241;43m=\u001b[39;49m\u001b[43minit_from\u001b[49m\u001b[43m,\u001b[49m\n\u001b[1;32m   2323\u001b[0m \u001b[43m    \u001b[49m\u001b[43mtimeout\u001b[49m\u001b[38;5;241;43m=\u001b[39;49m\u001b[43mtimeout\u001b[49m\u001b[43m,\u001b[49m\n\u001b[1;32m   2324\u001b[0m \u001b[43m    \u001b[49m\u001b[43msparse_vectors_config\u001b[49m\u001b[38;5;241;43m=\u001b[39;49m\u001b[43msparse_vectors_config\u001b[49m\u001b[43m,\u001b[49m\n\u001b[1;32m   2325\u001b[0m \u001b[43m    \u001b[49m\u001b[43mstrict_mode_config\u001b[49m\u001b[38;5;241;43m=\u001b[39;49m\u001b[43mstrict_mode_config\u001b[49m\u001b[43m,\u001b[49m\n\u001b[1;32m   2326\u001b[0m \u001b[43m    \u001b[49m\u001b[38;5;241;43m*\u001b[39;49m\u001b[38;5;241;43m*\u001b[39;49m\u001b[43mkwargs\u001b[49m\u001b[43m,\u001b[49m\n\u001b[1;32m   2327\u001b[0m \u001b[43m\u001b[49m\u001b[43m)\u001b[49m\n",
      "File \u001b[0;32m/usr/local/python/3.12.1/lib/python3.12/site-packages/qdrant_client/qdrant_remote.py:2810\u001b[0m, in \u001b[0;36mQdrantRemote.create_collection\u001b[0;34m(self, collection_name, vectors_config, shard_number, replication_factor, write_consistency_factor, on_disk_payload, hnsw_config, optimizers_config, wal_config, quantization_config, init_from, timeout, sparse_vectors_config, sharding_method, strict_mode_config, **kwargs)\u001b[0m\n\u001b[1;32m   2792\u001b[0m     init_from \u001b[38;5;241m=\u001b[39m GrpcToRest\u001b[38;5;241m.\u001b[39mconvert_init_from(init_from)\n\u001b[1;32m   2794\u001b[0m create_collection_request \u001b[38;5;241m=\u001b[39m models\u001b[38;5;241m.\u001b[39mCreateCollection(\n\u001b[1;32m   2795\u001b[0m     vectors\u001b[38;5;241m=\u001b[39mvectors_config,\n\u001b[1;32m   2796\u001b[0m     shard_number\u001b[38;5;241m=\u001b[39mshard_number,\n\u001b[0;32m   (...)\u001b[0m\n\u001b[1;32m   2807\u001b[0m     strict_mode_config\u001b[38;5;241m=\u001b[39mstrict_mode_config,\n\u001b[1;32m   2808\u001b[0m )\n\u001b[0;32m-> 2810\u001b[0m result: Optional[\u001b[38;5;28mbool\u001b[39m] \u001b[38;5;241m=\u001b[39m \u001b[38;5;28;43mself\u001b[39;49m\u001b[38;5;241;43m.\u001b[39;49m\u001b[43mhttp\u001b[49m\u001b[38;5;241;43m.\u001b[39;49m\u001b[43mcollections_api\u001b[49m\u001b[38;5;241;43m.\u001b[39;49m\u001b[43mcreate_collection\u001b[49m\u001b[43m(\u001b[49m\n\u001b[1;32m   2811\u001b[0m \u001b[43m    \u001b[49m\u001b[43mcollection_name\u001b[49m\u001b[38;5;241;43m=\u001b[39;49m\u001b[43mcollection_name\u001b[49m\u001b[43m,\u001b[49m\n\u001b[1;32m   2812\u001b[0m \u001b[43m    \u001b[49m\u001b[43mcreate_collection\u001b[49m\u001b[38;5;241;43m=\u001b[39;49m\u001b[43mcreate_collection_request\u001b[49m\u001b[43m,\u001b[49m\n\u001b[1;32m   2813\u001b[0m \u001b[43m    \u001b[49m\u001b[43mtimeout\u001b[49m\u001b[38;5;241;43m=\u001b[39;49m\u001b[43mtimeout\u001b[49m\u001b[43m,\u001b[49m\n\u001b[1;32m   2814\u001b[0m \u001b[43m\u001b[49m\u001b[43m)\u001b[49m\u001b[38;5;241m.\u001b[39mresult\n\u001b[1;32m   2816\u001b[0m \u001b[38;5;28;01massert\u001b[39;00m result \u001b[38;5;129;01mis\u001b[39;00m \u001b[38;5;129;01mnot\u001b[39;00m \u001b[38;5;28;01mNone\u001b[39;00m, \u001b[38;5;124m\"\u001b[39m\u001b[38;5;124mCreate collection returned None\u001b[39m\u001b[38;5;124m\"\u001b[39m\n\u001b[1;32m   2817\u001b[0m \u001b[38;5;28;01mreturn\u001b[39;00m result\n",
      "File \u001b[0;32m/usr/local/python/3.12.1/lib/python3.12/site-packages/qdrant_client/http/api/collections_api.py:294\u001b[0m, in \u001b[0;36mSyncCollectionsApi.create_collection\u001b[0;34m(self, collection_name, timeout, create_collection)\u001b[0m\n\u001b[1;32m    285\u001b[0m \u001b[38;5;28;01mdef\u001b[39;00m \u001b[38;5;21mcreate_collection\u001b[39m(\n\u001b[1;32m    286\u001b[0m     \u001b[38;5;28mself\u001b[39m,\n\u001b[1;32m    287\u001b[0m     collection_name: \u001b[38;5;28mstr\u001b[39m,\n\u001b[1;32m    288\u001b[0m     timeout: \u001b[38;5;28mint\u001b[39m \u001b[38;5;241m=\u001b[39m \u001b[38;5;28;01mNone\u001b[39;00m,\n\u001b[1;32m    289\u001b[0m     create_collection: m\u001b[38;5;241m.\u001b[39mCreateCollection \u001b[38;5;241m=\u001b[39m \u001b[38;5;28;01mNone\u001b[39;00m,\n\u001b[1;32m    290\u001b[0m ) \u001b[38;5;241m-\u001b[39m\u001b[38;5;241m>\u001b[39m m\u001b[38;5;241m.\u001b[39mInlineResponse200:\n\u001b[1;32m    291\u001b[0m \u001b[38;5;250m    \u001b[39m\u001b[38;5;124;03m\"\"\"\u001b[39;00m\n\u001b[1;32m    292\u001b[0m \u001b[38;5;124;03m    Create new collection with given parameters\u001b[39;00m\n\u001b[1;32m    293\u001b[0m \u001b[38;5;124;03m    \"\"\"\u001b[39;00m\n\u001b[0;32m--> 294\u001b[0m     \u001b[38;5;28;01mreturn\u001b[39;00m \u001b[38;5;28;43mself\u001b[39;49m\u001b[38;5;241;43m.\u001b[39;49m\u001b[43m_build_for_create_collection\u001b[49m\u001b[43m(\u001b[49m\n\u001b[1;32m    295\u001b[0m \u001b[43m        \u001b[49m\u001b[43mcollection_name\u001b[49m\u001b[38;5;241;43m=\u001b[39;49m\u001b[43mcollection_name\u001b[49m\u001b[43m,\u001b[49m\n\u001b[1;32m    296\u001b[0m \u001b[43m        \u001b[49m\u001b[43mtimeout\u001b[49m\u001b[38;5;241;43m=\u001b[39;49m\u001b[43mtimeout\u001b[49m\u001b[43m,\u001b[49m\n\u001b[1;32m    297\u001b[0m \u001b[43m        \u001b[49m\u001b[43mcreate_collection\u001b[49m\u001b[38;5;241;43m=\u001b[39;49m\u001b[43mcreate_collection\u001b[49m\u001b[43m,\u001b[49m\n\u001b[1;32m    298\u001b[0m \u001b[43m    \u001b[49m\u001b[43m)\u001b[49m\n",
      "File \u001b[0;32m/usr/local/python/3.12.1/lib/python3.12/site-packages/qdrant_client/http/api/collections_api.py:96\u001b[0m, in \u001b[0;36m_CollectionsApi._build_for_create_collection\u001b[0;34m(self, collection_name, timeout, create_collection)\u001b[0m\n\u001b[1;32m     94\u001b[0m \u001b[38;5;28;01mif\u001b[39;00m \u001b[38;5;124m\"\u001b[39m\u001b[38;5;124mContent-Type\u001b[39m\u001b[38;5;124m\"\u001b[39m \u001b[38;5;129;01mnot\u001b[39;00m \u001b[38;5;129;01min\u001b[39;00m headers:\n\u001b[1;32m     95\u001b[0m     headers[\u001b[38;5;124m\"\u001b[39m\u001b[38;5;124mContent-Type\u001b[39m\u001b[38;5;124m\"\u001b[39m] \u001b[38;5;241m=\u001b[39m \u001b[38;5;124m\"\u001b[39m\u001b[38;5;124mapplication/json\u001b[39m\u001b[38;5;124m\"\u001b[39m\n\u001b[0;32m---> 96\u001b[0m \u001b[38;5;28;01mreturn\u001b[39;00m \u001b[38;5;28;43mself\u001b[39;49m\u001b[38;5;241;43m.\u001b[39;49m\u001b[43mapi_client\u001b[49m\u001b[38;5;241;43m.\u001b[39;49m\u001b[43mrequest\u001b[49m\u001b[43m(\u001b[49m\n\u001b[1;32m     97\u001b[0m \u001b[43m    \u001b[49m\u001b[43mtype_\u001b[49m\u001b[38;5;241;43m=\u001b[39;49m\u001b[43mm\u001b[49m\u001b[38;5;241;43m.\u001b[39;49m\u001b[43mInlineResponse200\u001b[49m\u001b[43m,\u001b[49m\n\u001b[1;32m     98\u001b[0m \u001b[43m    \u001b[49m\u001b[43mmethod\u001b[49m\u001b[38;5;241;43m=\u001b[39;49m\u001b[38;5;124;43m\"\u001b[39;49m\u001b[38;5;124;43mPUT\u001b[39;49m\u001b[38;5;124;43m\"\u001b[39;49m\u001b[43m,\u001b[49m\n\u001b[1;32m     99\u001b[0m \u001b[43m    \u001b[49m\u001b[43murl\u001b[49m\u001b[38;5;241;43m=\u001b[39;49m\u001b[38;5;124;43m\"\u001b[39;49m\u001b[38;5;124;43m/collections/\u001b[39;49m\u001b[38;5;132;43;01m{collection_name}\u001b[39;49;00m\u001b[38;5;124;43m\"\u001b[39;49m\u001b[43m,\u001b[49m\n\u001b[1;32m    100\u001b[0m \u001b[43m    \u001b[49m\u001b[43mheaders\u001b[49m\u001b[38;5;241;43m=\u001b[39;49m\u001b[43mheaders\u001b[49m\u001b[43m \u001b[49m\u001b[38;5;28;43;01mif\u001b[39;49;00m\u001b[43m \u001b[49m\u001b[43mheaders\u001b[49m\u001b[43m \u001b[49m\u001b[38;5;28;43;01melse\u001b[39;49;00m\u001b[43m \u001b[49m\u001b[38;5;28;43;01mNone\u001b[39;49;00m\u001b[43m,\u001b[49m\n\u001b[1;32m    101\u001b[0m \u001b[43m    \u001b[49m\u001b[43mpath_params\u001b[49m\u001b[38;5;241;43m=\u001b[39;49m\u001b[43mpath_params\u001b[49m\u001b[43m,\u001b[49m\n\u001b[1;32m    102\u001b[0m \u001b[43m    \u001b[49m\u001b[43mparams\u001b[49m\u001b[38;5;241;43m=\u001b[39;49m\u001b[43mquery_params\u001b[49m\u001b[43m,\u001b[49m\n\u001b[1;32m    103\u001b[0m \u001b[43m    \u001b[49m\u001b[43mcontent\u001b[49m\u001b[38;5;241;43m=\u001b[39;49m\u001b[43mbody\u001b[49m\u001b[43m,\u001b[49m\n\u001b[1;32m    104\u001b[0m \u001b[43m\u001b[49m\u001b[43m)\u001b[49m\n",
      "File \u001b[0;32m/usr/local/python/3.12.1/lib/python3.12/site-packages/qdrant_client/http/api_client.py:89\u001b[0m, in \u001b[0;36mApiClient.request\u001b[0;34m(self, type_, method, url, path_params, **kwargs)\u001b[0m\n\u001b[1;32m     87\u001b[0m     kwargs[\u001b[38;5;124m\"\u001b[39m\u001b[38;5;124mtimeout\u001b[39m\u001b[38;5;124m\"\u001b[39m] \u001b[38;5;241m=\u001b[39m \u001b[38;5;28mint\u001b[39m(kwargs[\u001b[38;5;124m\"\u001b[39m\u001b[38;5;124mparams\u001b[39m\u001b[38;5;124m\"\u001b[39m][\u001b[38;5;124m\"\u001b[39m\u001b[38;5;124mtimeout\u001b[39m\u001b[38;5;124m\"\u001b[39m])\n\u001b[1;32m     88\u001b[0m request \u001b[38;5;241m=\u001b[39m \u001b[38;5;28mself\u001b[39m\u001b[38;5;241m.\u001b[39m_client\u001b[38;5;241m.\u001b[39mbuild_request(method, url, \u001b[38;5;241m*\u001b[39m\u001b[38;5;241m*\u001b[39mkwargs)\n\u001b[0;32m---> 89\u001b[0m \u001b[38;5;28;01mreturn\u001b[39;00m \u001b[38;5;28;43mself\u001b[39;49m\u001b[38;5;241;43m.\u001b[39;49m\u001b[43msend\u001b[49m\u001b[43m(\u001b[49m\u001b[43mrequest\u001b[49m\u001b[43m,\u001b[49m\u001b[43m \u001b[49m\u001b[43mtype_\u001b[49m\u001b[43m)\u001b[49m\n",
      "File \u001b[0;32m/usr/local/python/3.12.1/lib/python3.12/site-packages/qdrant_client/http/api_client.py:112\u001b[0m, in \u001b[0;36mApiClient.send\u001b[0;34m(self, request, type_)\u001b[0m\n\u001b[1;32m    110\u001b[0m     \u001b[38;5;28;01mexcept\u001b[39;00m ValidationError \u001b[38;5;28;01mas\u001b[39;00m e:\n\u001b[1;32m    111\u001b[0m         \u001b[38;5;28;01mraise\u001b[39;00m ResponseHandlingException(e)\n\u001b[0;32m--> 112\u001b[0m \u001b[38;5;28;01mraise\u001b[39;00m UnexpectedResponse\u001b[38;5;241m.\u001b[39mfor_response(response)\n",
      "\u001b[0;31mUnexpectedResponse\u001b[0m: Unexpected Response: 409 (Conflict)\nRaw response content:\nb'{\"status\":{\"error\":\"Wrong input: Collection `test_collection` already exists!\"},\"time\":0.000226222}'"
     ]
    }
   ],
   "source": [
    "client.create_collection(\n",
    "    collection_name=\"test_collection\",\n",
    "    vectors_config=models.VectorParams(size=768, distance=models.Distance.COSINE),\n",
    ")"
   ]
  },
  {
   "cell_type": "code",
   "execution_count": 29,
   "id": "cee3e0ae-8351-484c-be30-d748e70a5a8d",
   "metadata": {},
   "outputs": [],
   "source": [
    "def dataframe_to_points(model, df):\n",
    "    points = []\n",
    "\n",
    "    for _, row in tqdm(df.iterrows(), desc=\"Embedding rows of DataFrame\"):\n",
    "        # Create a list of \"column:value\" pairs for each row\n",
    "        id_value = row['episode']\n",
    "        \n",
    "        pairs = [f\"{col}:{val}\" for col, val in row.items() if col != 'episode']\n",
    "        \n",
    "        # Join these pairs with commas\n",
    "        row_text = \";\".join(pairs)\n",
    "\n",
    "        embedding = list(model.embed(row_text))[0]\n",
    "\n",
    "        points.append(\n",
    "            models.PointStruct(\n",
    "                id=id_value,\n",
    "                vector=embedding\n",
    "            )\n",
    "        )\n",
    "\n",
    "    return points"
   ]
  },
  {
   "cell_type": "code",
   "execution_count": 30,
   "id": "29d9b0d6-6379-45a7-a045-29be0c715965",
   "metadata": {},
   "outputs": [
    {
     "name": "stderr",
     "output_type": "stream",
     "text": [
      "Embedding rows of DataFrame: 444it [02:08,  3.46it/s]\n"
     ]
    }
   ],
   "source": [
    "embed_points = dataframe_to_points(model, df)"
   ]
  },
  {
   "cell_type": "code",
   "execution_count": 32,
   "id": "76a9c869-69fd-4d99-8e19-1458960aff92",
   "metadata": {
    "scrolled": true
   },
   "outputs": [
    {
     "data": {
      "text/plain": [
       "UpdateResult(operation_id=1, status=<UpdateStatus.COMPLETED: 'completed'>)"
      ]
     },
     "execution_count": 32,
     "metadata": {},
     "output_type": "execute_result"
    }
   ],
   "source": [
    "client.upsert(\n",
    "    collection_name=\"test_collection\",\n",
    "    points=embed_points\n",
    ")"
   ]
  },
  {
   "cell_type": "code",
   "execution_count": 67,
   "id": "ba94c2ca-8412-4c8e-b010-a2f6b6f9d634",
   "metadata": {},
   "outputs": [],
   "source": [
    "question = [\"約會必勝，告白失敗\"]\n",
    "que_vector = list(model.embed(question))[0]"
   ]
  },
  {
   "cell_type": "code",
   "execution_count": 68,
   "id": "fd47a2eb-fdbd-4ffa-8be7-8512a44ae73f",
   "metadata": {},
   "outputs": [
    {
     "name": "stdout",
     "output_type": "stream",
     "text": [
      "[ScoredPoint(id=258, version=1, score=0.79606247, payload={}, vector=None, shard_key=None, order_value=None), ScoredPoint(id=383, version=1, score=0.7905643, payload={}, vector=None, shard_key=None, order_value=None), ScoredPoint(id=38, version=1, score=0.78805125, payload={}, vector=None, shard_key=None, order_value=None), ScoredPoint(id=424, version=1, score=0.78662246, payload={}, vector=None, shard_key=None, order_value=None), ScoredPoint(id=233, version=1, score=0.7844709, payload={}, vector=None, shard_key=None, order_value=None), ScoredPoint(id=40, version=1, score=0.7765012, payload={}, vector=None, shard_key=None, order_value=None), ScoredPoint(id=421, version=1, score=0.77574706, payload={}, vector=None, shard_key=None, order_value=None), ScoredPoint(id=83, version=1, score=0.7739875, payload={}, vector=None, shard_key=None, order_value=None), ScoredPoint(id=68, version=1, score=0.77265084, payload={}, vector=None, shard_key=None, order_value=None), ScoredPoint(id=111, version=1, score=0.7722193, payload={}, vector=None, shard_key=None, order_value=None)]\n"
     ]
    }
   ],
   "source": [
    "search_result = client.query_points(\n",
    "    collection_name=\"test_collection\",\n",
    "    query=que_vector,\n",
    "    limit=10\n",
    ").points\n",
    "\n",
    "print(search_result)"
   ]
  },
  {
   "cell_type": "code",
   "execution_count": 69,
   "id": "7690bab1-fb92-431a-a5ff-96580d3ea634",
   "metadata": {},
   "outputs": [],
   "source": [
    "result_episode = []\n",
    "for result in search_result:\n",
    "    result_episode.append(result.id)"
   ]
  },
  {
   "cell_type": "code",
   "execution_count": 70,
   "id": "7023b6d9-0031-456f-bfe1-9309476b3313",
   "metadata": {},
   "outputs": [
    {
     "data": {
      "text/html": [
       "<div>\n",
       "<style scoped>\n",
       "    .dataframe tbody tr th:only-of-type {\n",
       "        vertical-align: middle;\n",
       "    }\n",
       "\n",
       "    .dataframe tbody tr th {\n",
       "        vertical-align: top;\n",
       "    }\n",
       "\n",
       "    .dataframe thead th {\n",
       "        text-align: right;\n",
       "    }\n",
       "</style>\n",
       "<table border=\"1\" class=\"dataframe\">\n",
       "  <thead>\n",
       "    <tr style=\"text-align: right;\">\n",
       "      <th></th>\n",
       "      <th>episode</th>\n",
       "      <th>title</th>\n",
       "      <th>summary</th>\n",
       "      <th>song_recommendation</th>\n",
       "    </tr>\n",
       "  </thead>\n",
       "  <tbody>\n",
       "    <tr>\n",
       "      <th>37</th>\n",
       "      <td>38</td>\n",
       "      <td>長期徵求約會必勝奇招</td>\n",
       "      <td>談國民黨齒輪卡到\\n國民黨尊重發言   先進的想法-國民黨沒有言論審查\\n約會五分就愛愛 \\...</td>\n",
       "      <td>淺堤 Shallow Levée -【永和 + 薄冰上跳舞 + 陷眠】Live Sessio...</td>\n",
       "    </tr>\n",
       "    <tr>\n",
       "      <th>39</th>\n",
       "      <td>40</td>\n",
       "      <td>躲在車子裡算甚麼英雄好漢</td>\n",
       "      <td>想控制不受控的人 只有自己不受控\\n逞誠覺得 川普都做有賺的才生氣  呱吉才會好氣討罵\\n呱...</td>\n",
       "      <td>NaN</td>\n",
       "    </tr>\n",
       "    <tr>\n",
       "      <th>67</th>\n",
       "      <td>68</td>\n",
       "      <td>禮物重量請低於十公斤</td>\n",
       "      <td>何ㄟ英文開場\\n小有名氣之後 出門不能太邋遢\\n6:15這集業配沒給何ㄟ錢\\n7:39 交換...</td>\n",
       "      <td>NaN</td>\n",
       "    </tr>\n",
       "    <tr>\n",
       "      <th>82</th>\n",
       "      <td>83</td>\n",
       "      <td>交換禮物是吊床</td>\n",
       "      <td>為了大眾 當閃哥\\n猴王的由來從哪來 因為根本就沒有由來 事務所的豪哥也來問是哪集\\n解釋哪...</td>\n",
       "      <td>NaN</td>\n",
       "    </tr>\n",
       "    <tr>\n",
       "      <th>110</th>\n",
       "      <td>111</td>\n",
       "      <td>畢業典禮</td>\n",
       "      <td>泡麵 雙響泡 阿Ｑ桶麵加統一麵 何ㄟ固定維力炸醬麵煮湯麵但怕被逞誠罵（法白楊貴智也會）自詡孤...</td>\n",
       "      <td>NaN</td>\n",
       "    </tr>\n",
       "    <tr>\n",
       "      <th>232</th>\n",
       "      <td>233</td>\n",
       "      <td>青春審查員</td>\n",
       "      <td>任天堂是很獨裁的公司，不聽話的廠商會故意被排在和大遊戲一起發。\\n最近拍的MV，打一打見血，...</td>\n",
       "      <td>NaN</td>\n",
       "    </tr>\n",
       "    <tr>\n",
       "      <th>257</th>\n",
       "      <td>258</td>\n",
       "      <td>告白先不要</td>\n",
       "      <td>誠誠建議聖誕節跨年都不要告白 何A有節日告白過 誠誠看蔡志忠的莊子 家倫看老子 \\n誠誠自比...</td>\n",
       "      <td>NaN</td>\n",
       "    </tr>\n",
       "    <tr>\n",
       "      <th>382</th>\n",
       "      <td>383</td>\n",
       "      <td>你要怎麼說他不是主角</td>\n",
       "      <td>很廢的轉生異世界主角  關鍵字／句的角色是配角\\n三色豆是配角 蒸蛋跟控肉？白飯到底是男一還...</td>\n",
       "      <td>許茹芸-欲哭無淚</td>\n",
       "    </tr>\n",
       "    <tr>\n",
       "      <th>420</th>\n",
       "      <td>421</td>\n",
       "      <td>要是有便利大裹巾就好</td>\n",
       "      <td>何a買鹽酥雞必有雞皮與甜不辣，討厭軟雞皮。\\n--業配線--\\n最近網路傳一張圖片房間堆滿模...</td>\n",
       "      <td>家倫: 小虎隊-我的舞伴名字叫做風，收錄在小虎隊「紅蜻蜓」。一個社恐中二覺得自己很帥。</td>\n",
       "    </tr>\n",
       "    <tr>\n",
       "      <th>423</th>\n",
       "      <td>424</td>\n",
       "      <td>全方位超男子 ft. 美麗本人</td>\n",
       "      <td>家倫機長再度登場\\n---業配線---\\n大家好，歡迎來到台灣通勤第一品牌，我是李毅誠，我是...</td>\n",
       "      <td>美麗本人推兩首：\\n\\nChromeo:《Fancy Footwork》\\n盧廣仲 ft.美...</td>\n",
       "    </tr>\n",
       "  </tbody>\n",
       "</table>\n",
       "</div>"
      ],
      "text/plain": [
       "     episode            title  \\\n",
       "37        38       長期徵求約會必勝奇招   \n",
       "39        40     躲在車子裡算甚麼英雄好漢   \n",
       "67        68       禮物重量請低於十公斤   \n",
       "82        83          交換禮物是吊床   \n",
       "110      111             畢業典禮   \n",
       "232      233            青春審查員   \n",
       "257      258            告白先不要   \n",
       "382      383       你要怎麼說他不是主角   \n",
       "420      421       要是有便利大裹巾就好   \n",
       "423      424  全方位超男子 ft. 美麗本人   \n",
       "\n",
       "                                               summary  \\\n",
       "37   談國民黨齒輪卡到\\n國民黨尊重發言   先進的想法-國民黨沒有言論審查\\n約會五分就愛愛 \\...   \n",
       "39   想控制不受控的人 只有自己不受控\\n逞誠覺得 川普都做有賺的才生氣  呱吉才會好氣討罵\\n呱...   \n",
       "67   何ㄟ英文開場\\n小有名氣之後 出門不能太邋遢\\n6:15這集業配沒給何ㄟ錢\\n7:39 交換...   \n",
       "82   為了大眾 當閃哥\\n猴王的由來從哪來 因為根本就沒有由來 事務所的豪哥也來問是哪集\\n解釋哪...   \n",
       "110  泡麵 雙響泡 阿Ｑ桶麵加統一麵 何ㄟ固定維力炸醬麵煮湯麵但怕被逞誠罵（法白楊貴智也會）自詡孤...   \n",
       "232  任天堂是很獨裁的公司，不聽話的廠商會故意被排在和大遊戲一起發。\\n最近拍的MV，打一打見血，...   \n",
       "257  誠誠建議聖誕節跨年都不要告白 何A有節日告白過 誠誠看蔡志忠的莊子 家倫看老子 \\n誠誠自比...   \n",
       "382  很廢的轉生異世界主角  關鍵字／句的角色是配角\\n三色豆是配角 蒸蛋跟控肉？白飯到底是男一還...   \n",
       "420  何a買鹽酥雞必有雞皮與甜不辣，討厭軟雞皮。\\n--業配線--\\n最近網路傳一張圖片房間堆滿模...   \n",
       "423  家倫機長再度登場\\n---業配線---\\n大家好，歡迎來到台灣通勤第一品牌，我是李毅誠，我是...   \n",
       "\n",
       "                                   song_recommendation  \n",
       "37   淺堤 Shallow Levée -【永和 + 薄冰上跳舞 + 陷眠】Live Sessio...  \n",
       "39                                                 NaN  \n",
       "67                                                 NaN  \n",
       "82                                                 NaN  \n",
       "110                                                NaN  \n",
       "232                                                NaN  \n",
       "257                                                NaN  \n",
       "382                                           許茹芸-欲哭無淚  \n",
       "420        家倫: 小虎隊-我的舞伴名字叫做風，收錄在小虎隊「紅蜻蜓」。一個社恐中二覺得自己很帥。  \n",
       "423  美麗本人推兩首：\\n\\nChromeo:《Fancy Footwork》\\n盧廣仲 ft.美...  "
      ]
     },
     "execution_count": 70,
     "metadata": {},
     "output_type": "execute_result"
    }
   ],
   "source": [
    "df[df['episode'].isin(result_episode)]"
   ]
  },
  {
   "cell_type": "code",
   "execution_count": 65,
   "id": "1bb172b0-7cde-451a-8de8-248509e868d7",
   "metadata": {},
   "outputs": [
    {
     "name": "stdout",
     "output_type": "stream",
     "text": [
      "['端午節立蛋、哥倫布的雞蛋\\n國中就抽菸的人超壞 跟寫幹署名一樣\\n老鄧 純血外省人 放一堆石頭 在蘇蘇的背包\\n6:30 踢狗事件 腳剌狗 沒何權協會  狂踹何ㄟ都沒人理 正義魔人（SJW）\\n11:20 四大寬容 1. 來都來了2. 人都死了 3. 大過年的 4. 他只是個孩子 \\n最過分的霸凌是老師起頭\\n逞誠ㄒ曾經想當老師\\n恐龍家長\\n反霸凌小卡\\n最可怕的就是 以前吃過的苦現在也要吃\\n點菸給大便蹲加酒 穿錯服裝的天兵 穿內褲\\n軍中恐怖故事 長官檢查不要進去\\n希望全民都有打靶經驗 逞誠壓著新兵教打靶小撇步\\n50:00 何ㄟ打過火箭彈\\n52:00 最後一波夏日最後的回憶 折扣碼 wbliao\\n究極ㄋㄡ選擇 同梯\\n基隆滷肉飯 白胡椒加醋\\n逞誠濃湯 哥倫布的配方\\n伸港鄉的炸醬麵\\n豆干、紅油炒手美景 士林大道附近\\n糞中之糞 糞糞\\n下班講阿迪歐斯']\n"
     ]
    }
   ],
   "source": [
    "print(df[df['episode']==17].summary.values)"
   ]
  },
  {
   "cell_type": "code",
   "execution_count": 66,
   "id": "af968b17-f1a0-430c-85aa-405956ab8203",
   "metadata": {},
   "outputs": [
    {
     "name": "stdout",
     "output_type": "stream",
     "text": [
      "['談國民黨齒輪卡到\\n國民黨尊重發言   先進的想法-國民黨沒有言論審查\\n約會五分就愛愛 \\n你是不是只喜歡跟我愛愛 95％男生有被問過\\n家倫被問是不是對身體沒興趣\\n提點年輕男性 不要那麼興幹\\n少年pi電影事件 自我的哲學時間\\n特斯拉還沒到高點（結果節目播出不久跌了）\\n修煉愛情的心酸\\n新的不想給別人知道的歌 李聖傑眼底星空 任賢齊我是一隻魚\\n植入挑歌晶片到家倫的腦袋裡 \\n家倫妹喜歡徐懷鈺 錄音帶被家倫藏起來  家倫爸聽費玉清 張雨生（家倫也喜歡）\\n逞誠談上呱吉直播放台語歌 什麼是南部口味的台語歌 非慣聽的人會想是好不好聽\\n酒是舞伴你是生命，因為帶入生活感很深 所以變好聽了\\n只會留下開心的記憶 逞誠 忘記何ㄟ摔車記憶 (如膠似漆捏)\\n店裡有一道是辣的 忘記怎麼寫 寫中間一點 寫辣小撇步\\n巳已己  已有長牙齒\\n親 怎麼寫 辣怎麼寫 家倫讓手想要的樣子寫出來 肌肉記憶\\n延長線插頭規格 檯燈開關不統一\\n乾爹詢問要不要收納生活大改造  家倫舉例就像找他造型大改造\\n約會 逞誠 攻擊型 家倫防守型\\n阿英幫逞誠整理書 害他作業找不到沒帶去學校\\n家倫東西都有固定的位子\\n逞誠整理術 發現邏輯只有收納的日期  不是重要非重要的邏輯\\n家倫整理術 存摺不見就是在逞誠的重要袋子裡 \\n逞誠口直心快  先嗆\\n家倫約會必殺奇招 按摩很厲害 逞誠必殺劣勢在podcast用完了  \\n笑到脖子痛\\n修煉愛情 阿飛與小蝴蝶 成全 癡心絕對 眼底星空 任賢齊 我是一隻魚許茹芸 張惠妹  萬芳']\n"
     ]
    }
   ],
   "source": [
    "print(df[df['episode']==38].summary.values)"
   ]
  },
  {
   "cell_type": "code",
   "execution_count": null,
   "id": "a96be7de-c4f3-4a01-af6b-89b8ee3fc3d9",
   "metadata": {},
   "outputs": [],
   "source": []
  }
 ],
 "metadata": {
  "kernelspec": {
   "display_name": "Python 3 (ipykernel)",
   "language": "python",
   "name": "python3"
  },
  "language_info": {
   "codemirror_mode": {
    "name": "ipython",
    "version": 3
   },
   "file_extension": ".py",
   "mimetype": "text/x-python",
   "name": "python",
   "nbconvert_exporter": "python",
   "pygments_lexer": "ipython3",
   "version": "3.12.6"
  }
 },
 "nbformat": 4,
 "nbformat_minor": 5
}
